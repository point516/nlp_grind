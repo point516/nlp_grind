{
  "cells": [
    {
      "cell_type": "markdown",
      "metadata": {
        "id": "fL69zGpmx01k"
      },
      "source": [
        "# Contact\n",
        "For any doubt, question, issue or help, you can always contact us at the following email addresses:\n",
        "\n",
        "Teaching Assistants:\n",
        "\n",
        "- Federico Ruggeri -> federico.ruggeri6@unibo.it\n",
        "- Eleonora Mancini -> e.mancini@unibo.it\n",
        "\n",
        "Professor:\n",
        "- Paolo Torroni -> p.torroni@unibo.it"
      ]
    },
    {
      "cell_type": "markdown",
      "metadata": {
        "id": "55jnW-xKxi-2"
      },
      "source": [
        "# Introduction\n",
        "You are asked to address the [EXIST 2023 Task 1](https://clef2023.clef-initiative.eu/index.php?page=Pages/labs.html#EXIST) on sexism detection."
      ]
    },
    {
      "cell_type": "markdown",
      "metadata": {
        "id": "9HWp5bGwySsb"
      },
      "source": [
        "## Problem Definition\n",
        "The systems have to decide whether or not a given tweet contains or describes sexist expressions or behaviors (i.e., it is sexist itself, describes a sexist situation or criticizes a sexist behavior).\n",
        "\n",
        "### Examples:\n",
        "\n",
        "**Text**: *Can’t go a day without women womening*\n",
        "\n",
        "**Label**: Sexist\n",
        "\n",
        "**Text**: *''Society's set norms! Happy men's day though!#weareequal''*\n",
        "\n",
        "**Label**: Not sexist"
      ]
    },
    {
      "cell_type": "markdown",
      "metadata": {
        "id": "2iu1X4I98M8B"
      },
      "source": [
        "#[Task 1 - 1.0 points] Corpus\n",
        "\n",
        "We have preparared a small version of EXIST dataset in our dedicated [Github repository](https://github.com/lt-nlp-lab-unibo/nlp-course-material/tree/main/2024-2025/Assignment%201/data).\n",
        "\n",
        "Check the `A1/data` folder. It contains 3 `.json` files representing `training`, `validation` and `test` sets.\n",
        "\n",
        "The three sets are slightly unbalanced, with a bias toward the `Non-sexist` class.\n",
        "\n"
      ]
    },
    {
      "cell_type": "markdown",
      "metadata": {
        "id": "AASoMV9XN5l6"
      },
      "source": [
        "### Dataset Description\n",
        "- The dataset contains tweets in both English and Spanish.\n",
        "- There are labels for multiple tasks, but we are focusing on **Task 1**.\n",
        "- For Task 1, soft labels are assigned by six annotators.\n",
        "- The labels for Task 1 represent whether the tweet is sexist (\"YES\") or not (\"NO\").\n",
        "\n",
        "\n",
        "\n",
        "\n"
      ]
    },
    {
      "cell_type": "markdown",
      "metadata": {
        "id": "OFjwB_lCOQKj"
      },
      "source": [
        "\n",
        "### Example\n",
        "\n",
        "\n",
        "    \"203260\": {\n",
        "        \"id_EXIST\": \"203260\",\n",
        "        \"lang\": \"en\",\n",
        "        \"tweet\": \"ik when mandy says “you look like a whore” i look cute as FUCK\",\n",
        "        \"number_annotators\": 6,\n",
        "        \"annotators\": [\"Annotator_473\", \"Annotator_474\", \"Annotator_475\", \"Annotator_476\", \"Annotator_477\", \"Annotator_27\"],\n",
        "        \"gender_annotators\": [\"F\", \"F\", \"M\", \"M\", \"M\", \"F\"],\n",
        "        \"age_annotators\": [\"18-22\", \"23-45\", \"18-22\", \"23-45\", \"46+\", \"46+\"],\n",
        "        \"labels_task1\": [\"YES\", \"YES\", \"YES\", \"NO\", \"YES\", \"YES\"],\n",
        "        \"labels_task2\": [\"DIRECT\", \"DIRECT\", \"REPORTED\", \"-\", \"JUDGEMENTAL\", \"REPORTED\"],\n",
        "        \"labels_task3\": [\n",
        "          [\"STEREOTYPING-DOMINANCE\"],\n",
        "          [\"OBJECTIFICATION\"],\n",
        "          [\"SEXUAL-VIOLENCE\"],\n",
        "          [\"-\"],\n",
        "          [\"STEREOTYPING-DOMINANCE\", \"OBJECTIFICATION\"],\n",
        "          [\"OBJECTIFICATION\"]\n",
        "        ],\n",
        "        \"split\": \"TRAIN_EN\"\n",
        "      }\n",
        "    }"
      ]
    },
    {
      "cell_type": "markdown",
      "metadata": {
        "id": "BJ45bvuOOJ7I"
      },
      "source": [
        "\n",
        "### Instructions\n",
        "1. **Download** the `A1/data` folder.\n",
        "2. **Load** the three JSON files and encode them as pandas dataframes.\n",
        "3. **Generate hard labels** for Task 1 using majority voting and store them in a new dataframe column called `hard_label_task1`. Items without a clear majority will be removed from the dataset.\n",
        "4. **Filter the DataFrame** to keep only rows where the `lang` column is `'en'`.\n",
        "5. **Remove unwanted columns**: Keep only `id_EXIST`, `lang`, `tweet`, and `hard_label_task1`.\n",
        "6. **Encode the `hard_label_task1` column**: Use 1 to represent \"YES\" and 0 to represent \"NO\"."
      ]
    },
    {
      "cell_type": "code",
      "source": [
        "import pandas as pd\n",
        "import json\n",
        "import numpy as np\n",
        "import nltk\n",
        "\n",
        "from tqdm import tqdm\n",
        "from collections import OrderedDict\n",
        "from nltk.stem import WordNetLemmatizer\n",
        "from nltk import pos_tag\n",
        "from nltk.corpus import wordnet\n",
        "from nltk.tokenize import WhitespaceTokenizer\n",
        "\n",
        "import tensorflow as tf\n",
        "from tensorflow.keras.models import Sequential\n",
        "from tensorflow.keras.layers import Embedding, Bidirectional, LSTM, Dense\n",
        "from tensorflow.keras.preprocessing.sequence import pad_sequences\n",
        "from tensorflow.keras.preprocessing.text import Tokenizer\n",
        "\n",
        "import pandas as pd\n",
        "from sklearn.model_selection import train_test_split\n",
        "from sklearn.metrics import f1_score, precision_recall_curve, PrecisionRecallDisplay, ConfusionMatrixDisplay, PrecisionRecallDisplay, confusion_matrix, precision_recall_curve, average_precision_score\n",
        "from transformers import AutoTokenizer, AutoModelForSequenceClassification, Trainer, TrainingArguments, DataCollatorWithPadding\n",
        "import torch\n",
        "from torch.utils.data import Dataset\n",
        "\n",
        "import matplotlib.pyplot as plt"
      ],
      "metadata": {
        "id": "BNhCjpRiE_fV"
      },
      "execution_count": null,
      "outputs": []
    },
    {
      "cell_type": "code",
      "source": [
        "# Reading JSON data from a file\n",
        "def encode_json(file_path):\n",
        "  with open(file_path, 'r', encoding='utf-8') as file:\n",
        "      data = json.load(file)\n",
        "\n",
        "  df = pd.DataFrame.from_dict(data, orient='index')\n",
        "  return df\n",
        "\n",
        "# Convert dictionary to pandas DataFrame\n",
        "training = encode_json('data/training.json')\n",
        "validation = encode_json('data/validation.json')\n",
        "test = encode_json('data/test.json')"
      ],
      "metadata": {
        "id": "6gXM9Kp6OB0V"
      },
      "execution_count": null,
      "outputs": []
    },
    {
      "cell_type": "markdown",
      "source": [
        "retrieving hard labels by majority voting"
      ],
      "metadata": {
        "id": "09aMh9ofyeAB"
      }
    },
    {
      "cell_type": "code",
      "source": [
        "def get_labels(soft_labels):\n",
        "  labels = []\n",
        "  for row in soft_labels['labels_task1']:\n",
        "    if row.count('YES') > row.count('NO'):\n",
        "      labels.append('YES')\n",
        "    elif row.count('NO') > row.count('YES'):\n",
        "      labels.append('NO')\n",
        "    else:\n",
        "      labels.append(None)\n",
        "\n",
        "  return labels\n",
        "\n",
        "training['hard_label_task1'] = get_labels(training)\n",
        "validation['hard_label_task1'] = get_labels(validation)\n",
        "test['hard_label_task1'] = get_labels(test)\n",
        "\n",
        "training.dropna(inplace=True)\n",
        "validation.dropna(inplace=True)\n",
        "test.dropna(inplace=True)"
      ],
      "metadata": {
        "id": "6gvYlPJjGSK9"
      },
      "execution_count": null,
      "outputs": []
    },
    {
      "cell_type": "markdown",
      "source": [
        "getting only English tweets"
      ],
      "metadata": {
        "id": "N6caGyyWymUz"
      }
    },
    {
      "cell_type": "code",
      "source": [
        "training = training[training['lang'] == 'en']\n",
        "validation = validation[validation['lang'] == 'en']\n",
        "test = test[test['lang'] == 'en']"
      ],
      "metadata": {
        "id": "E5qm1B46QNI2"
      },
      "execution_count": null,
      "outputs": []
    },
    {
      "cell_type": "markdown",
      "source": [
        "removing unwanted columns"
      ],
      "metadata": {
        "id": "6-uGh-S3yzk6"
      }
    },
    {
      "cell_type": "code",
      "source": [
        "training = training.loc[:,['id_EXIST', 'lang', 'tweet', 'hard_label_task1']]\n",
        "validation = validation.loc[:,['id_EXIST', 'lang', 'tweet', 'hard_label_task1']]\n",
        "test = test.loc[:,['id_EXIST', 'lang', 'tweet', 'hard_label_task1']]"
      ],
      "metadata": {
        "id": "-sF5ija_QmMZ"
      },
      "execution_count": null,
      "outputs": []
    },
    {
      "cell_type": "markdown",
      "source": [
        "1 for sexist tweets, 0 otherwise"
      ],
      "metadata": {
        "id": "sZ_2CWEGy2hX"
      }
    },
    {
      "cell_type": "code",
      "source": [
        "training.loc[training['hard_label_task1'] == 'YES','hard_label_task1'] = 1\n",
        "training.loc[training['hard_label_task1'] == 'NO','hard_label_task1'] = 0\n",
        "\n",
        "validation.loc[validation['hard_label_task1'] == 'YES','hard_label_task1'] = 1\n",
        "validation.loc[validation['hard_label_task1'] == 'NO','hard_label_task1'] = 0\n",
        "\n",
        "test.loc[test['hard_label_task1'] == 'YES','hard_label_task1'] = 1\n",
        "test.loc[test['hard_label_task1'] == 'NO','hard_label_task1'] = 0"
      ],
      "metadata": {
        "id": "oSBD9RYVT2MG"
      },
      "execution_count": null,
      "outputs": []
    },
    {
      "cell_type": "markdown",
      "metadata": {
        "collapsed": false,
        "id": "KOy0zxFg_HhI"
      },
      "source": [
        "# [Task2 - 0.5 points] Data Cleaning\n",
        "In the context of tweets, we have noisy and informal data that often includes unnecessary elements like emojis, hashtags, mentions, and URLs. These elements may interfere with the text analysis.\n"
      ]
    },
    {
      "cell_type": "markdown",
      "metadata": {
        "collapsed": false,
        "id": "i0mLIhZf_HhJ"
      },
      "source": [
        "\n",
        "### Instructions\n",
        "- **Remove emojis** from the tweets.\n",
        "- **Remove hashtags** (e.g., `#example`).\n",
        "- **Remove mentions** such as `@user`.\n",
        "- **Remove URLs** from the tweets.\n",
        "- **Remove special characters and symbols**.\n",
        "- **Remove specific quote characters** (e.g., curly quotes).\n",
        "- **Perform lemmatization** to reduce words to their base form."
      ]
    },
    {
      "cell_type": "code",
      "source": [
        "import re\n",
        "\n",
        "def clean_tweet(tweet):\n",
        "    # Remove emojis\n",
        "    tweet = re.sub(r'[^\\x00-\\x7F]+', '', tweet)\n",
        "\n",
        "    # Remove hashtags\n",
        "    tweet = re.sub(r'#\\w+', '', tweet)\n",
        "\n",
        "    # Remove mentions\n",
        "    tweet = re.sub(r'@\\w+', '', tweet)\n",
        "\n",
        "    # Remove URLs\n",
        "    tweet = re.sub(r'http\\S+|www\\S+|https\\S+', '', tweet, flags=re.MULTILINE)\n",
        "\n",
        "    # Remove special characters and symbols\n",
        "    tweet = re.sub(r'[^\\w\\s]', '', tweet)\n",
        "\n",
        "    # Remove specific quote characters\n",
        "    tweet = re.sub(r'[“”‘’\"\\']', '', tweet)\n",
        "\n",
        "    # Remove excessive whitespaces\n",
        "    tweet = re.sub(r'\\s+', ' ', tweet)\n",
        "\n",
        "    return tweet.strip().lower()\n",
        "\n",
        "def get_wordnet_key(pos_tag):\n",
        "    if pos_tag.startswith('J'):\n",
        "        return wordnet.ADJ\n",
        "    elif pos_tag.startswith('V'):\n",
        "        return wordnet.VERB\n",
        "    elif pos_tag.startswith('N'):\n",
        "        return wordnet.NOUN\n",
        "    elif pos_tag.startswith('R'):\n",
        "        return wordnet.ADV\n",
        "    else:\n",
        "        return 'n'\n",
        "\n",
        "def lem_text(text: str):\n",
        "    tokens = tokenizer.tokenize(text)\n",
        "    tagged = pos_tag(tokens)\n",
        "    words = [lemmatizer.lemmatize(word, get_wordnet_key(tag)) for word, tag in tagged]\n",
        "    return \" \".join(words)\n",
        "\n",
        "#cleaning tweets\n",
        "training['tweet'] = training['tweet'].apply(clean_tweet)\n",
        "validation['tweet'] = validation['tweet'].apply(clean_tweet)\n",
        "test['tweet'] = test['tweet'].apply(clean_tweet)\n",
        "\n",
        "train_texts = training['tweet'].values\n",
        "val_texts = validation['tweet'].values\n",
        "test_texts = test['tweet'].values\n",
        "\n",
        "#lemmatizing\n",
        "nltk.download('omw-1.4')\n",
        "nltk.download('wordnet')\n",
        "nltk.download('averaged_perceptron_tagger')\n",
        "nltk.download('averaged_perceptron_tagger_eng')\n",
        "\n",
        "tokenizer = WhitespaceTokenizer()\n",
        "lemmatizer = WordNetLemmatizer()\n",
        "\n",
        "lem_train_texts = [lem_text(text) for text in tqdm(train_texts, leave=True, position=0)]\n",
        "lem_val_texts = [lem_text(text) for text in tqdm(val_texts, leave=True, position=0)]\n",
        "lem_test_texts = [lem_text(text) for text in tqdm(test_texts, leave=True, position=0)]\n",
        "\n",
        "#saving in separate column\n",
        "training['lemmatized'] = lem_train_texts\n",
        "validation['lemmatized'] = lem_val_texts\n",
        "test['lemmatized'] = lem_test_texts"
      ],
      "metadata": {
        "id": "xs1fQP77LqOY",
        "colab": {
          "base_uri": "https://localhost:8080/"
        },
        "outputId": "952be3ce-862e-4f3b-ea11-d10920270363"
      },
      "execution_count": null,
      "outputs": [
        {
          "output_type": "stream",
          "name": "stderr",
          "text": [
            "[nltk_data] Downloading package omw-1.4 to /root/nltk_data...\n",
            "[nltk_data] Downloading package wordnet to /root/nltk_data...\n",
            "[nltk_data] Downloading package averaged_perceptron_tagger to\n",
            "[nltk_data]     /root/nltk_data...\n",
            "[nltk_data]   Unzipping taggers/averaged_perceptron_tagger.zip.\n",
            "[nltk_data] Downloading package averaged_perceptron_tagger_eng to\n",
            "[nltk_data]     /root/nltk_data...\n",
            "[nltk_data]   Unzipping taggers/averaged_perceptron_tagger_eng.zip.\n",
            "100%|██████████| 2870/2870 [00:06<00:00, 469.37it/s]\n",
            "100%|██████████| 158/158 [00:00<00:00, 950.13it/s]\n",
            "100%|██████████| 286/286 [00:00<00:00, 943.59it/s] \n"
          ]
        }
      ]
    },
    {
      "cell_type": "markdown",
      "metadata": {
        "id": "s3KylLHNl0bE"
      },
      "source": [
        "# [Task 3 - 0.5 points] Text Encoding\n",
        "To train a neural sexism classifier, you first need to encode text into numerical format.\n",
        "\n",
        "\n"
      ]
    },
    {
      "cell_type": "markdown",
      "metadata": {
        "id": "hr1lTHUVOXff"
      },
      "source": [
        "### Instructions\n",
        "\n",
        "* Embed words using **GloVe embeddings**.\n",
        "* You are **free** to pick any embedding dimension.\n",
        "\n",
        "\n",
        "\n"
      ]
    },
    {
      "cell_type": "markdown",
      "metadata": {
        "id": "r6NNMEjWOZQr"
      },
      "source": [
        "### Note : What about OOV tokens?\n",
        "   * All the tokens in the **training** set that are not in GloVe **must** be added to the vocabulary.\n",
        "   * For the remaining tokens (i.e., OOV in the validation and test sets), you have to assign them a **special token** (e.g., [UNK]) and a **static** embedding.\n",
        "   * You are **free** to define the static embedding using any strategy (e.g., random, neighbourhood, etc...)\n",
        "\n"
      ]
    },
    {
      "cell_type": "markdown",
      "metadata": {
        "id": "90UztlGUObXk"
      },
      "source": [
        "### More about OOV\n",
        "\n",
        "For a given token:\n",
        "\n",
        "* **If in train set**: add to vocabulary and assign an embedding (use GloVe if token in GloVe, custom embedding otherwise).\n",
        "* **If in val/test set**: assign special token if not in vocabulary and assign custom embedding.\n",
        "\n",
        "Your vocabulary **should**:\n",
        "\n",
        "* Contain all tokens in train set; or\n",
        "* Union of tokens in train set and in GloVe $\\rightarrow$ we make use of existing knowledge!"
      ]
    },
    {
      "cell_type": "markdown",
      "source": [
        "loading GloVe embeddings"
      ],
      "metadata": {
        "id": "OEXKi_7JzaWA"
      }
    },
    {
      "cell_type": "code",
      "source": [
        "import gensim\n",
        "import gensim.downloader as gloader\n",
        "\n",
        "embedding_dimension = 100\n",
        "glove = gloader.load(\"glove-wiki-gigaword-{}\".format(embedding_dimension))"
      ],
      "metadata": {
        "id": "WvYY2FuvjYzH",
        "colab": {
          "base_uri": "https://localhost:8080/"
        },
        "outputId": "e6918d79-dfe0-4b3f-e4c9-b1e890f42fe6"
      },
      "execution_count": null,
      "outputs": [
        {
          "output_type": "stream",
          "name": "stdout",
          "text": [
            "[==================================================] 100.0% 128.1/128.1MB downloaded\n"
          ]
        }
      ]
    },
    {
      "cell_type": "markdown",
      "source": [
        "building vocabulary and word to undex mapping"
      ],
      "metadata": {
        "id": "LkWIw4hSzfXx"
      }
    },
    {
      "cell_type": "code",
      "source": [
        "def build_vocabulary(df):\n",
        "    idx_to_word = OrderedDict()\n",
        "    word_to_idx = OrderedDict()\n",
        "\n",
        "    # start from 2 because index 0 will be for padding, 1 for <OOV>\n",
        "    curr_idx = 2\n",
        "    for sentence in df:\n",
        "        tokens = sentence.split()\n",
        "        for token in tokens:\n",
        "            if token not in word_to_idx:\n",
        "                word_to_idx[token] = curr_idx\n",
        "                idx_to_word[curr_idx] = token\n",
        "                curr_idx += 1\n",
        "\n",
        "    word_listing = list(idx_to_word.values())\n",
        "    return idx_to_word, word_to_idx, word_listing\n",
        "\n",
        "idx_to_word, word_to_idx, word_listing = build_vocabulary(lem_train_texts)\n",
        "#add 'UNK' token for the OOV tokens in val and test sets\n",
        "idx_to_word[1] = 'UNK'\n",
        "word_to_idx['UNK'] = 1\n",
        "word_listing.append('UNK')\n",
        "print(f\"\\n{len(word_listing)}\")"
      ],
      "metadata": {
        "colab": {
          "base_uri": "https://localhost:8080/"
        },
        "id": "Mhy91mJK2K-V",
        "outputId": "ed27bb97-7daf-40f0-8f38-3dc47a0abe9b"
      },
      "execution_count": null,
      "outputs": [
        {
          "output_type": "stream",
          "name": "stdout",
          "text": [
            "\n",
            "9841\n"
          ]
        }
      ]
    },
    {
      "cell_type": "markdown",
      "source": [
        "tokenizing the tweets"
      ],
      "metadata": {
        "id": "31EIGUpPzpuO"
      }
    },
    {
      "cell_type": "code",
      "source": [
        "#tokenizing the tweets\n",
        "def tokenize_and_map(text, word_to_index):\n",
        "\n",
        "    tokens = text.split()\n",
        "\n",
        "    # 4. Map tokens to indices, use 'UNK' index if not found\n",
        "    indices = [word_to_index.get(token, word_to_index['UNK']) for token in tokens]\n",
        "\n",
        "    return indices\n",
        "\n",
        "training['tokenized'] = training['lemmatized'].apply(lambda x: tokenize_and_map(x, word_to_idx))\n",
        "validation['tokenized'] = validation['lemmatized'].apply(lambda x: tokenize_and_map(x, word_to_idx))\n",
        "test['tokenized'] = test['lemmatized'].apply(lambda x: tokenize_and_map(x, word_to_idx))"
      ],
      "metadata": {
        "id": "kKWccpFdTze8"
      },
      "execution_count": null,
      "outputs": []
    },
    {
      "cell_type": "markdown",
      "source": [
        "checking number of OOV terms"
      ],
      "metadata": {
        "id": "5ZVKQBC6zvmB"
      }
    },
    {
      "cell_type": "code",
      "source": [
        "def check_OOV_terms(embedding_model,\n",
        "                    word_listing):\n",
        "\n",
        "    embedding_vocabulary = set(embedding_model.key_to_index.keys())\n",
        "    oov = set(word_listing).difference(embedding_vocabulary)\n",
        "    return list(oov)\n",
        "\n",
        "oov_terms = check_OOV_terms(glove, word_listing)\n",
        "oov_percentage = float(len(oov_terms)) * 100 / len(word_listing)\n",
        "print(f\"Total OOV terms: {len(oov_terms)} ({oov_percentage:.2f}%)\")"
      ],
      "metadata": {
        "colab": {
          "base_uri": "https://localhost:8080/"
        },
        "id": "or48sukUnj0W",
        "outputId": "bfcbff71-4a33-40e7-b417-62aba91d1e9f"
      },
      "execution_count": null,
      "outputs": [
        {
          "output_type": "stream",
          "name": "stdout",
          "text": [
            "Total OOV terms: 1865 (18.95%)\n"
          ]
        }
      ]
    },
    {
      "cell_type": "markdown",
      "source": [
        "creating an embedding matrix, assigning random embeddings to words that are not in GloVe"
      ],
      "metadata": {
        "id": "2DYRIcnHFmjd"
      }
    },
    {
      "cell_type": "code",
      "source": [
        "def build_embedding_matrix(embedding_model,\n",
        "                           embedding_dimension,\n",
        "                           word_to_idx,\n",
        "                           vocab_size,\n",
        "                           oov_terms):\n",
        "\n",
        "    embedding_matrix = np.zeros((vocab_size, embedding_dimension), dtype=np.float32)\n",
        "    for word, idx in tqdm(word_to_idx.items()):\n",
        "        try:\n",
        "            embedding_vector = embedding_model[word]\n",
        "        except (KeyError, TypeError):\n",
        "            embedding_vector = np.random.uniform(low=-0.05, high=0.05, size=embedding_dimension)\n",
        "\n",
        "        embedding_matrix[idx] = embedding_vector\n",
        "\n",
        "    return embedding_matrix"
      ],
      "metadata": {
        "id": "MpyWAwIdCRSq"
      },
      "execution_count": null,
      "outputs": []
    },
    {
      "cell_type": "code",
      "source": [
        "embedding_matrix = build_embedding_matrix(glove, embedding_dimension, word_to_idx, len(word_to_idx)+1, oov_terms)\n",
        "# np.save('/content/drive/MyDrive/assignment-2425/embed.npy', embedding_matrix)\n",
        "print(f\"\\nEmbedding matrix shape: {embedding_matrix.shape}\")"
      ],
      "metadata": {
        "colab": {
          "base_uri": "https://localhost:8080/"
        },
        "id": "kETkcEOgERV2",
        "outputId": "cc01200f-4727-47c0-bf7b-6e784d04e1b9"
      },
      "execution_count": null,
      "outputs": [
        {
          "output_type": "stream",
          "name": "stderr",
          "text": [
            "100%|██████████| 9841/9841 [00:00<00:00, 292055.09it/s]"
          ]
        },
        {
          "output_type": "stream",
          "name": "stdout",
          "text": [
            "\n",
            "Embedding matrix shape: (9842, 100)\n"
          ]
        },
        {
          "output_type": "stream",
          "name": "stderr",
          "text": [
            "\n"
          ]
        }
      ]
    },
    {
      "cell_type": "markdown",
      "metadata": {
        "id": "6JLnuLGHGAUT"
      },
      "source": [
        "# [Task 4 - 1.0 points] Model definition\n",
        "\n",
        "You are now tasked to define your sexism classifier.\n",
        "\n",
        "\n"
      ]
    },
    {
      "cell_type": "markdown",
      "metadata": {
        "id": "iQFI9J-JOfXD"
      },
      "source": [
        "### Instructions\n",
        "\n",
        "* **Baseline**: implement a Bidirectional LSTM with a Dense layer on top.\n",
        "* You are **free** to experiment with hyper-parameters to define the baseline model.\n",
        "\n",
        "* **Model 1**: add an additional LSTM layer to the Baseline model."
      ]
    },
    {
      "cell_type": "markdown",
      "metadata": {
        "id": "4jALc_qYGS2E"
      },
      "source": [
        "### Token to embedding mapping\n",
        "\n",
        "You can follow two approaches for encoding tokens in your classifier.\n",
        "\n",
        "### Work directly with embeddings\n",
        "\n",
        "- Compute the embedding of each input token\n",
        "- Feed the mini-batches of shape (batch_size, # tokens, embedding_dim) to your model\n",
        "\n",
        "### Work with Embedding layer\n",
        "\n",
        "- Encode input tokens to token ids\n",
        "- Define a Embedding layer as the first layer of your model\n",
        "- Compute the embedding matrix of all known tokens (i.e., tokens in your vocabulary)\n",
        "- Initialize the Embedding layer with the computed embedding matrix\n",
        "- You are **free** to set the Embedding layer trainable or not"
      ]
    },
    {
      "cell_type": "code",
      "source": [
        "#Need to pad tokenized sequences to max_length, 60 is the max_length in training\n",
        "max_len = 60\n",
        "training['padded'] = pad_sequences(training['tokenized'], maxlen=max_len, padding='post').tolist()\n",
        "validation['padded'] = pad_sequences(validation['tokenized'], maxlen=max_len, padding='post').tolist()\n",
        "test['padded'] = pad_sequences(test['tokenized'], maxlen=max_len, padding='post').tolist()"
      ],
      "metadata": {
        "id": "lNqZmuybU6rJ"
      },
      "execution_count": null,
      "outputs": []
    },
    {
      "cell_type": "markdown",
      "source": [
        "loading embedding matrix and creating the models"
      ],
      "metadata": {
        "id": "1-R3GR4Q0QwX"
      }
    },
    {
      "cell_type": "code",
      "source": [
        "# embedding_matrix = np.load('/content/drive/MyDrive/assignment-2425/embed.npy')\n",
        "vocab_size = embedding_matrix.shape[0]\n",
        "\n",
        "baseline = Sequential([\n",
        "    Embedding(\n",
        "        input_dim=vocab_size,\n",
        "        output_dim=embedding_dimension,\n",
        "        weights=[embedding_matrix],  # Load the pre-trained embeddings\n",
        "        mask_zero=True,\n",
        "        trainable=False               # Set to False to keep embeddings fixed\n",
        "    ),\n",
        "    Bidirectional(LSTM(64, return_sequences=False)),\n",
        "    Dense(1, activation='sigmoid')  # For binary classification\n",
        "])\n",
        "\n",
        "model_1 = Sequential([\n",
        "    Embedding(\n",
        "        input_dim=vocab_size,\n",
        "        output_dim=embedding_dimension,\n",
        "        weights=[embedding_matrix],  # Load the pre-trained embeddings\n",
        "        mask_zero=True,\n",
        "        trainable=False               # Set to False to keep embeddings fixed\n",
        "    ),\n",
        "    Bidirectional(LSTM(64, return_sequences=True)),\n",
        "    Bidirectional(LSTM(64)), # add another LSTM layer\n",
        "    Dense(1, activation='sigmoid')  # For binary classification\n",
        "])"
      ],
      "metadata": {
        "id": "0axd1zrQJlio"
      },
      "execution_count": null,
      "outputs": []
    },
    {
      "cell_type": "markdown",
      "metadata": {
        "id": "GEQTPu6eGgGv"
      },
      "source": [
        "### Padding\n",
        "\n",
        "Pay attention to padding tokens!\n",
        "\n",
        "Your model **should not** be penalized on those tokens.\n",
        "\n",
        "#### How to?\n",
        "\n",
        "There are two main ways.\n",
        "\n",
        "However, their implementation depends on the neural library you are using.\n",
        "\n",
        "- Embedding layer\n",
        "- Custom loss to compute average cross-entropy on non-padding tokens only\n",
        "\n",
        "**Note**: This is a **recommendation**, but we **do not penalize** for missing workarounds."
      ]
    },
    {
      "cell_type": "markdown",
      "metadata": {
        "id": "EFjBgdiRG3wD"
      },
      "source": [
        "# [Task 5 - 1.0 points] Training and Evaluation\n",
        "\n",
        "You are now tasked to train and evaluate the Baseline and Model 1.\n"
      ]
    },
    {
      "cell_type": "markdown",
      "metadata": {
        "id": "TWPK4umGOjtT"
      },
      "source": [
        "\n",
        "### Instructions\n",
        "\n",
        "* Train **all** models on the train set.\n",
        "* Evaluate **all** models on the validation set.\n",
        "* Compute metrics on the validation set.\n",
        "* Pick **at least** three seeds for robust estimation.\n",
        "* Pick the **best** performing model according to the observed validation set performance.\n",
        "* Evaluate your models using macro F1-score."
      ]
    },
    {
      "cell_type": "markdown",
      "source": [
        "creating train and validation sets"
      ],
      "metadata": {
        "id": "4o5OFCVU02_y"
      }
    },
    {
      "cell_type": "code",
      "source": [
        "x_train = np.array(training['padded'].to_list()).astype('float32')\n",
        "y_train = training['hard_label_task1'].values.astype('float32')\n",
        "\n",
        "x_val = np.array(validation['padded'].to_list()).astype('float32')\n",
        "y_val = validation['hard_label_task1'].values.astype('float32')"
      ],
      "metadata": {
        "id": "q-wOJRlkzjud"
      },
      "execution_count": null,
      "outputs": []
    },
    {
      "cell_type": "markdown",
      "source": [
        "script to train models for 3 random seeds and evaluating on the validation set"
      ],
      "metadata": {
        "id": "_Pkrctpf1F8W"
      }
    },
    {
      "cell_type": "code",
      "source": [
        "seed_values = [1, 42 , 7]\n",
        "\n",
        "for seed in seed_values:\n",
        "  print(f\"model_{seed}\")\n",
        "  tf.random.set_seed(seed)\n",
        "\n",
        "  optim = tf.keras.optimizers.AdamW(learning_rate=0.001)\n",
        "  reduce_LR = tf.keras.callbacks.ReduceLROnPlateau(patience=4)\n",
        "  checkpoint_baseline = tf.keras.callbacks.ModelCheckpoint(f'/content/drive/MyDrive/assignment-2425/baseline_trainable_{seed}.weights.h5', save_weights_only=True, save_best_only=True)\n",
        "\n",
        "  baseline = Sequential([\n",
        "    Embedding(\n",
        "        input_dim=vocab_size,\n",
        "        output_dim=embedding_dimension,\n",
        "        weights=[embedding_matrix],  # Load the pre-trained embeddings\n",
        "        mask_zero=True,\n",
        "        trainable=True               # Set to False to keep embeddings fixed\n",
        "    ),\n",
        "    Bidirectional(LSTM(64, return_sequences=False)),\n",
        "    Dense(1, activation='sigmoid')  # For binary classification\n",
        "])\n",
        "\n",
        "  baseline.compile(\n",
        "      loss='binary_crossentropy',\n",
        "      optimizer=optim,\n",
        "      metrics=['accuracy']\n",
        "  )\n",
        "\n",
        "  history_baseline = baseline.fit(\n",
        "    x_train,\n",
        "    y_train,\n",
        "    epochs=20,\n",
        "    batch_size=32,\n",
        "    validation_data=(x_val, y_val),\n",
        "    callbacks=[reduce_LR, checkpoint_baseline]\n",
        "  )\n",
        "\n",
        "  baseline.load_weights(f'/content/drive/MyDrive/assignment-2425/baseline_trainable_{seed}.weights.h5')\n",
        "  y_pred = baseline.predict(x_val)\n",
        "  f1 = tf.keras.metrics.F1Score(threshold=0.5, average='macro')\n",
        "  f1.update_state(np.expand_dims(y_val,1).astype('int32'), y_pred)\n",
        "  print(f1.result())"
      ],
      "metadata": {
        "id": "yyRDspfAos_I"
      },
      "execution_count": null,
      "outputs": []
    },
    {
      "cell_type": "code",
      "source": [
        "baseline.load_weights('/content/drive/MyDrive/assignment-2425/baseline.weights.h5')\n",
        "print(baseline.evaluate(x_val, y_val))"
      ],
      "metadata": {
        "colab": {
          "base_uri": "https://localhost:8080/"
        },
        "id": "CB3JVYqg0KHz",
        "outputId": "9ae071b1-77b0-4474-d96f-8f6b2c30e159"
      },
      "execution_count": null,
      "outputs": [
        {
          "output_type": "stream",
          "name": "stdout",
          "text": [
            "\u001b[1m5/5\u001b[0m \u001b[32m━━━━━━━━━━━━━━━━━━━━\u001b[0m\u001b[37m\u001b[0m \u001b[1m0s\u001b[0m 6ms/step - accuracy: 0.7855 - loss: 0.4468 \n",
            "[0.44200608134269714, 0.7848101258277893]\n"
          ]
        }
      ]
    },
    {
      "cell_type": "code",
      "source": [
        "model_1.load_weights('/content/drive/MyDrive/assignment-2425/model1.weights.h5')\n",
        "print(model_1.evaluate(x_val, y_val))"
      ],
      "metadata": {
        "colab": {
          "base_uri": "https://localhost:8080/"
        },
        "id": "_HIxtXGJscw6",
        "outputId": "11993069-60b3-4a26-dee9-30975f144305"
      },
      "execution_count": null,
      "outputs": [
        {
          "output_type": "stream",
          "name": "stdout",
          "text": [
            "\u001b[1m5/5\u001b[0m \u001b[32m━━━━━━━━━━━━━━━━━━━━\u001b[0m\u001b[37m\u001b[0m \u001b[1m0s\u001b[0m 10ms/step - accuracy: 0.8026 - loss: 0.4434\n",
            "[0.4414699971675873, 0.8101266026496887]\n"
          ]
        }
      ]
    },
    {
      "cell_type": "markdown",
      "source": [
        "#### The best performing model on a validation set was baseline model with random seed = 7 with Embeddings(Trainable = False). Then, I evaluate it on the test set."
      ],
      "metadata": {
        "id": "JUdBSIiOpoNv"
      }
    },
    {
      "cell_type": "code",
      "source": [
        "#Evaluate on test set\n",
        "baseline = Sequential([\n",
        "  Embedding(\n",
        "      input_dim=vocab_size,\n",
        "      output_dim=embedding_dimension,\n",
        "      weights=[embedding_matrix],  # Load the pre-trained embeddings\n",
        "      mask_zero=True,\n",
        "      trainable=False               # Set to False to keep embeddings fixed\n",
        "  ),\n",
        "  Bidirectional(LSTM(64, return_sequences=False)),\n",
        "  Dense(1, activation='sigmoid')  # For binary classification\n",
        "])\n",
        "\n",
        "baseline.build(input_shape=(32, 60))\n",
        "baseline.load_weights('/content/drive/MyDrive/assignment-2425/baseline_7.weights.h5')"
      ],
      "metadata": {
        "id": "KdewhKzPku70"
      },
      "execution_count": null,
      "outputs": []
    },
    {
      "cell_type": "code",
      "source": [
        "x_test = np.array(test['padded'].to_list()).astype('float32')\n",
        "y_test = test['hard_label_task1'].values.astype('float32')"
      ],
      "metadata": {
        "id": "y2wOtfkcorqa"
      },
      "execution_count": null,
      "outputs": []
    },
    {
      "cell_type": "code",
      "source": [
        "y_pred = baseline.predict(x_test)\n",
        "f1 = tf.keras.metrics.F1Score(threshold=0.5, average='macro')\n",
        "f1.update_state(np.expand_dims(y_test,1).astype('int32'), y_pred)\n",
        "print(f1.result())"
      ],
      "metadata": {
        "colab": {
          "base_uri": "https://localhost:8080/"
        },
        "id": "UVw2xDdam7Be",
        "outputId": "93c30ceb-ac4c-489b-c2bd-04ab0a95eee4"
      },
      "execution_count": null,
      "outputs": [
        {
          "output_type": "stream",
          "name": "stdout",
          "text": [
            "\u001b[1m9/9\u001b[0m \u001b[32m━━━━━━━━━━━━━━━━━━━━\u001b[0m\u001b[37m\u001b[0m \u001b[1m1s\u001b[0m 32ms/step\n",
            "tf.Tensor(0.7094016, shape=(), dtype=float32)\n"
          ]
        }
      ]
    },
    {
      "cell_type": "markdown",
      "metadata": {
        "id": "CSy9sPwYHUoD"
      },
      "source": [
        "# [Task 6 - 1.0 points] Transformers\n",
        "\n",
        "In this section, you will use a transformer model specifically trained for hate speech detection, namely [Twitter-roBERTa-base for Hate Speech Detection](https://huggingface.co/cardiffnlp/twitter-roberta-base-hate).\n",
        "\n",
        "\n"
      ]
    },
    {
      "cell_type": "markdown",
      "metadata": {
        "collapsed": false,
        "id": "njQmpZzH_HhP"
      },
      "source": [
        "### Relevant Material\n",
        "- Tutorial 3"
      ]
    },
    {
      "cell_type": "markdown",
      "metadata": {
        "collapsed": false,
        "id": "uZTi5m0L_HhQ"
      },
      "source": [
        "### Instructions\n",
        "1. **Load the Tokenizer and Model**\n",
        "\n",
        "2. **Preprocess the Dataset**:\n",
        "   You will need to preprocess your dataset to prepare it for input into the model. Tokenize your text data using the appropriate tokenizer and ensure it is formatted correctly.\n",
        "\n",
        "   **Note**: You have to use the plain text of the dataset and not the version that you tokenized before, as you need to tokenize the cleaned text obtained after the initial cleaning process.\n",
        "\n",
        "3. **Train the Model**:\n",
        "   Use the `Trainer` to train the model on your training data.\n",
        "\n",
        "4. **Evaluate the Model on the Test Set** using F1-macro."
      ]
    },
    {
      "cell_type": "code",
      "source": [
        "device = torch.device(\"cuda\") if torch.cuda.is_available() else torch.device(\"cpu\")"
      ],
      "metadata": {
        "id": "0Na74XmAYw4Z"
      },
      "execution_count": null,
      "outputs": []
    },
    {
      "cell_type": "markdown",
      "source": [
        "creating datasets"
      ],
      "metadata": {
        "id": "JjGmMLUr2Cfp"
      }
    },
    {
      "cell_type": "code",
      "source": [
        "train_texts = training['lemmatized'].tolist()\n",
        "val_texts = validation['lemmatized'].tolist()\n",
        "test_texts = test['lemmatized'].tolist()\n",
        "\n",
        "train_labels = training['hard_label_task1'].tolist()\n",
        "val_labels = validation['hard_label_task1'].tolist()\n",
        "test_labels = test['hard_label_task1'].tolist()"
      ],
      "metadata": {
        "id": "i5OpB4KrG8od"
      },
      "execution_count": null,
      "outputs": []
    },
    {
      "cell_type": "markdown",
      "source": [
        "loading model and tokenizer"
      ],
      "metadata": {
        "id": "mg77YnYP2GTr"
      }
    },
    {
      "cell_type": "code",
      "source": [
        "model_name = \"cardiffnlp/twitter-roberta-base-hate\"  # Replace with the correct model name\n",
        "\n",
        "tokenizer = AutoTokenizer.from_pretrained(model_name)\n",
        "model = AutoModelForSequenceClassification.from_pretrained(model_name, num_labels=2)"
      ],
      "metadata": {
        "id": "JyYID4LQHMdD",
        "colab": {
          "base_uri": "https://localhost:8080/",
          "height": 281,
          "referenced_widgets": [
            "efa43e3e2935456b9ca0443b77ac7dca",
            "446e7018c5dd443d9823fc080bbc94f3",
            "daec4ba095774236b029729e8ad5cdfd",
            "3f978bb2759b48058d3292faeb38bd77",
            "9c7631e85b4747e385ac81a0043f689d",
            "ee7339a07afa4e78ab4bba56bcdf4b1a",
            "3bc02dda686a4042b96ec0a8952d705b",
            "b3b3c13f5e7642338dfb4ddf0961ece8",
            "3ca3fd3885134563b0c8db47b03b7770",
            "7b055fafd2ac47dfb7c63422d27c57ea",
            "4fecd13348d84a61aa9c4ea84b65f872",
            "6c62000c3e8c4c69a1fd1b6bec965d74",
            "461a62ea32564464b0f99eebaa3e2e08",
            "8f27d6dbfef54db990f7a85696b93599",
            "da3788acc8aa45a5afa458c28b7c78c4",
            "12eedd50131c4f16abe53e6006add352",
            "831b83fbdd1e45a1b8694c1f37e4e898",
            "fac782a20a68496389ab661382cf1b8c",
            "76e07490e84e43d0805aea4aa1dc3fab",
            "c2448ef33cdc496c8aa89ca629c53332",
            "adee1c656648459f89f9701fa4b681fd",
            "78327c41a1114b698c2a05d059f6a685",
            "2ba396f6c8ae4de882cdc3fcb2d4772b",
            "a2251946532d4ac58d44821bb4504e5c",
            "48f62395c7fa41ad8750befc78dea21e",
            "138458b60a10442481562ef81b405a9b",
            "2e39a4ab51cf4120b1424044326eeec6",
            "1be7571e1fed4d36ae38b23982206712",
            "819a191ea115462191b3f9b44ca2cc56",
            "370de8e9437f4151b211f359065b51d0",
            "246bda18379d4c27904acb7cf633ee1d",
            "0d4f9cab47b24131a317a5da554366cc",
            "3aac242a595a4f6492c3e326dff7b5f1",
            "3da3fb12af7443569ed8242d60bdd09e",
            "c71fd2b898aa40e686333fd666af2e30",
            "a67c24332afd43148a620db917c01447",
            "e21282f4827147a6a06db08a26598681",
            "e5e41a246ca04ff395b337ee10ee2572",
            "845be238a0ef486091afbb99eb933f1c",
            "a0c002b83acb4af4bb0bfae3cbca7a82",
            "8a589b572d064e4bb72051f88923c902",
            "8f876a1f69194dfeb5a452de55357820",
            "e93bb80f30644a77a0b919d3441051b6",
            "11e1081f5ac14396a66d1ceeb3348596",
            "a559a8a53dd64231adef2c9817461cb7",
            "af8dbe43e4784e5c81e7b2681306ba51",
            "c548e2a7e34049a69c7b21c03c7dff55",
            "23aea4ea66934032adf74a8c5fd6dc91",
            "55adb205c2f1479ba91449ae2fa47109",
            "7e9c88917a9e4b7eabe295f30ce5868b",
            "7a4e648916814a2c95e226fe664deec3",
            "86cb33a66f3d48f19cb0e3d6fe8a7478",
            "6c7bb968e9624615bba9eb702522799f",
            "0b95b859ba9d4aca85a8d8e21148c779",
            "22c07f02e2b84a3bb84e4d4d2fdb3317"
          ]
        },
        "outputId": "ef8e64a7-b9a6-4e76-cf11-95b7d295ec13"
      },
      "execution_count": null,
      "outputs": [
        {
          "output_type": "stream",
          "name": "stderr",
          "text": [
            "/usr/local/lib/python3.10/dist-packages/huggingface_hub/utils/_auth.py:94: UserWarning: \n",
            "The secret `HF_TOKEN` does not exist in your Colab secrets.\n",
            "To authenticate with the Hugging Face Hub, create a token in your settings tab (https://huggingface.co/settings/tokens), set it as secret in your Google Colab and restart your session.\n",
            "You will be able to reuse this secret in all of your notebooks.\n",
            "Please note that authentication is recommended but still optional to access public models or datasets.\n",
            "  warnings.warn(\n"
          ]
        },
        {
          "output_type": "display_data",
          "data": {
            "text/plain": [
              "config.json:   0%|          | 0.00/700 [00:00<?, ?B/s]"
            ],
            "application/vnd.jupyter.widget-view+json": {
              "version_major": 2,
              "version_minor": 0,
              "model_id": "efa43e3e2935456b9ca0443b77ac7dca"
            }
          },
          "metadata": {}
        },
        {
          "output_type": "display_data",
          "data": {
            "text/plain": [
              "vocab.json:   0%|          | 0.00/899k [00:00<?, ?B/s]"
            ],
            "application/vnd.jupyter.widget-view+json": {
              "version_major": 2,
              "version_minor": 0,
              "model_id": "6c62000c3e8c4c69a1fd1b6bec965d74"
            }
          },
          "metadata": {}
        },
        {
          "output_type": "display_data",
          "data": {
            "text/plain": [
              "merges.txt:   0%|          | 0.00/456k [00:00<?, ?B/s]"
            ],
            "application/vnd.jupyter.widget-view+json": {
              "version_major": 2,
              "version_minor": 0,
              "model_id": "2ba396f6c8ae4de882cdc3fcb2d4772b"
            }
          },
          "metadata": {}
        },
        {
          "output_type": "display_data",
          "data": {
            "text/plain": [
              "special_tokens_map.json:   0%|          | 0.00/150 [00:00<?, ?B/s]"
            ],
            "application/vnd.jupyter.widget-view+json": {
              "version_major": 2,
              "version_minor": 0,
              "model_id": "3da3fb12af7443569ed8242d60bdd09e"
            }
          },
          "metadata": {}
        },
        {
          "output_type": "display_data",
          "data": {
            "text/plain": [
              "pytorch_model.bin:   0%|          | 0.00/499M [00:00<?, ?B/s]"
            ],
            "application/vnd.jupyter.widget-view+json": {
              "version_major": 2,
              "version_minor": 0,
              "model_id": "a559a8a53dd64231adef2c9817461cb7"
            }
          },
          "metadata": {}
        }
      ]
    },
    {
      "cell_type": "code",
      "source": [
        "# Tokenize the training and testing data\n",
        "train_encodings = tokenizer(train_texts)\n",
        "val_encodings = tokenizer(val_texts)\n",
        "test_encodings = tokenizer(test_texts)"
      ],
      "metadata": {
        "id": "qq0VyhKdHUEH"
      },
      "execution_count": null,
      "outputs": []
    },
    {
      "cell_type": "markdown",
      "source": [
        "creating a dataset class to train the model"
      ],
      "metadata": {
        "id": "dzjOUHiY2Kwh"
      }
    },
    {
      "cell_type": "code",
      "source": [
        "class SexismDataset(Dataset):\n",
        "    def __init__(self, encodings, labels):\n",
        "        self.encodings = encodings\n",
        "        self.labels = labels\n",
        "\n",
        "    def __getitem__(self, idx):\n",
        "        item = {key: torch.tensor(val[idx]) for key, val in self.encodings.items()}\n",
        "        item['labels'] = torch.tensor(self.labels[idx])\n",
        "        return item\n",
        "\n",
        "    def __len__(self):\n",
        "        return len(self.labels)\n",
        "\n",
        "train_dataset = SexismDataset(train_encodings, train_labels)\n",
        "val_dataset = SexismDataset(val_encodings, val_labels)\n",
        "test_dataset = SexismDataset(test_encodings, test_labels)"
      ],
      "metadata": {
        "id": "yKDPJuiuSjm-"
      },
      "execution_count": null,
      "outputs": []
    },
    {
      "cell_type": "markdown",
      "source": [
        "Initializing the collator"
      ],
      "metadata": {
        "id": "_AeXLGJD2UVW"
      }
    },
    {
      "cell_type": "code",
      "source": [
        "from transformers import DataCollatorWithPadding\n",
        "\n",
        "data_collator = DataCollatorWithPadding(tokenizer=tokenizer)"
      ],
      "metadata": {
        "id": "QWmCQfupQgiA"
      },
      "execution_count": null,
      "outputs": []
    },
    {
      "cell_type": "markdown",
      "source": [
        "initializing training arguments"
      ],
      "metadata": {
        "id": "BSnjlNYg2X6p"
      }
    },
    {
      "cell_type": "code",
      "source": [
        "training_args = TrainingArguments(\n",
        "    output_dir='/content/drive/MyDrive/assignment-2425/transformer/results',\n",
        "    num_train_epochs=3,\n",
        "    per_device_train_batch_size=8,\n",
        "    per_device_eval_batch_size=8,\n",
        "    weight_decay=0.01,\n",
        "    evaluation_strategy=\"epoch\",\n",
        "    save_strategy=\"epoch\",\n",
        "    logging_dir='/content/drive/MyDrive/assignment-2425/transformer/logs',\n",
        "    load_best_model_at_end=True,\n",
        "    seed = 42\n",
        ")"
      ],
      "metadata": {
        "colab": {
          "base_uri": "https://localhost:8080/"
        },
        "id": "lAKEUL_aNY2V",
        "outputId": "1e41c842-94b1-4702-fcc7-717e7ac00f4a"
      },
      "execution_count": null,
      "outputs": [
        {
          "output_type": "stream",
          "name": "stderr",
          "text": [
            "/usr/local/lib/python3.10/dist-packages/transformers/training_args.py:1575: FutureWarning: `evaluation_strategy` is deprecated and will be removed in version 4.46 of 🤗 Transformers. Use `eval_strategy` instead\n",
            "  warnings.warn(\n"
          ]
        }
      ]
    },
    {
      "cell_type": "markdown",
      "source": [
        "computing performance on f1-score"
      ],
      "metadata": {
        "id": "fuxBFe6O2dZp"
      }
    },
    {
      "cell_type": "code",
      "source": [
        "def compute_metrics(eval_pred):\n",
        "    logits, labels = eval_pred\n",
        "    predictions = np.argmax(logits, axis=-1)\n",
        "    return {\n",
        "        'f1': f1_score(labels, predictions, average='macro')\n",
        "    }"
      ],
      "metadata": {
        "id": "0iowvQLQRuUY"
      },
      "execution_count": null,
      "outputs": []
    },
    {
      "cell_type": "markdown",
      "source": [
        "script for training the model on 3 random seeds"
      ],
      "metadata": {
        "id": "Rjdt1U8p2h2Q"
      }
    },
    {
      "cell_type": "code",
      "source": [
        "seeds = [1,42,7]\n",
        "\n",
        "for seed in seeds:\n",
        "\n",
        "  # Set the seed for NumPy\n",
        "  np.random.seed(seed)\n",
        "\n",
        "  # Set the seed for PyTorch\n",
        "  torch.manual_seed(seed)\n",
        "\n",
        "  # If you're using a GPU\n",
        "  torch.cuda.manual_seed(seed)\n",
        "  torch.cuda.manual_seed_all(seed)  # If multiple GPUs are used\n",
        "\n",
        "  model_name = \"cardiffnlp/twitter-roberta-base-hate\"  # Replace with the correct model name\n",
        "\n",
        "  tokenizer = AutoTokenizer.from_pretrained(model_name)\n",
        "  model = AutoModelForSequenceClassification.from_pretrained(model_name, num_labels=2)\n",
        "\n",
        "  training_args = TrainingArguments(\n",
        "    output_dir='./results',\n",
        "    num_train_epochs=3,\n",
        "    per_device_train_batch_size=8,\n",
        "    per_device_eval_batch_size=8,\n",
        "    weight_decay=0.01,\n",
        "    evaluation_strategy=\"epoch\",\n",
        "    save_strategy=\"epoch\",\n",
        "    logging_dir='./logs',\n",
        "    load_best_model_at_end=True,\n",
        "    seed = seed\n",
        "  )\n",
        "\n",
        "  trainer = Trainer(\n",
        "      model=model,\n",
        "      args=training_args,\n",
        "      train_dataset=train_dataset,\n",
        "      eval_dataset=val_dataset,\n",
        "      tokenizer=tokenizer,\n",
        "      compute_metrics=compute_metrics,\n",
        "      data_collator=data_collator\n",
        "  )\n",
        "\n",
        "  trainer.train()\n",
        "  eval_result = trainer.evaluate()\n",
        "  print(f\"F1-Macro Score: {eval_result['eval_f1']:.4f}\")"
      ],
      "metadata": {
        "id": "s0zKqFpIRC5W"
      },
      "execution_count": null,
      "outputs": []
    },
    {
      "cell_type": "markdown",
      "source": [
        "evaluating the model on the test set"
      ],
      "metadata": {
        "id": "K3fnwwe326Lu"
      }
    },
    {
      "cell_type": "code",
      "source": [
        "def predict_sexism(texts, tokenizer, model, device, threshold=0.5):\n",
        "    # Tokenize the input texts\n",
        "    encodings = tokenizer(\n",
        "        texts,\n",
        "        truncation=True,\n",
        "        padding=True,\n",
        "        return_tensors=\"pt\"\n",
        "    )\n",
        "\n",
        "    input_ids = encodings['input_ids'].to(device)\n",
        "    attention_mask = encodings['attention_mask'].to(device)\n",
        "\n",
        "    # Perform inference\n",
        "    with torch.no_grad():\n",
        "        outputs = model(input_ids=input_ids, attention_mask=attention_mask)\n",
        "        logits = outputs.logits\n",
        "\n",
        "    # Apply softmax to get probabilities\n",
        "    probabilities = torch.softmax(logits, dim=1)[:, 1].cpu().numpy()\n",
        "\n",
        "    # Apply threshold to get binary predictions\n",
        "    predictions = (probabilities >= threshold).astype(int)\n",
        "\n",
        "    return predictions.tolist(), probabilities.tolist()"
      ],
      "metadata": {
        "id": "dgWM8fEHX6aQ"
      },
      "execution_count": null,
      "outputs": []
    },
    {
      "cell_type": "code",
      "source": [
        "tweets = test['lemmatized'].values.tolist()\n",
        "\n",
        "predictions, probabilities = predict_sexism(tweets, tokenizer, model, device)\n",
        "print(f1_score(test['hard_label_task1'].values.tolist(), predictions, average='macro'))"
      ],
      "metadata": {
        "colab": {
          "base_uri": "https://localhost:8080/"
        },
        "id": "EqKSiAuZX_L7",
        "outputId": "1245bd7f-3d59-4b85-8402-8504fc34f803"
      },
      "execution_count": null,
      "outputs": [
        {
          "output_type": "stream",
          "name": "stdout",
          "text": [
            "0.7761799951088286\n"
          ]
        }
      ]
    },
    {
      "cell_type": "markdown",
      "metadata": {
        "id": "3gtiG2mAL3HM"
      },
      "source": [
        "# [Task 7 - 0.5 points] Error Analysis\n",
        "\n",
        "### Instructions\n",
        "\n",
        "After evaluating the model, perform a brief error analysis:\n",
        "\n",
        " - Review the results and identify common errors.\n",
        "\n",
        " - Summarize your findings regarding the errors and their impact on performance (e.g. but not limited to Out-of-Vocabulary (OOV) words, data imbalance, and performance differences between the custom model and the transformer...)\n",
        " - Suggest possible solutions to address the identified errors.\n",
        "\n"
      ]
    },
    {
      "cell_type": "markdown",
      "source": [
        "#### Error analysis for baseline model with seed 7"
      ],
      "metadata": {
        "id": "_WyUOO7xhmVo"
      }
    },
    {
      "cell_type": "markdown",
      "source": [
        "load the embedding matrix"
      ],
      "metadata": {
        "id": "YkJCx2mH3Biu"
      }
    },
    {
      "cell_type": "code",
      "source": [
        "embedding_matrix = np.load('/content/drive/MyDrive/assignment-2425/embed.npy')\n",
        "vocab_size = embedding_matrix.shape[0]"
      ],
      "metadata": {
        "id": "2v93Lm3i1Kr9"
      },
      "execution_count": null,
      "outputs": []
    },
    {
      "cell_type": "markdown",
      "source": [
        "load the model"
      ],
      "metadata": {
        "id": "vs9h4-en3Dnb"
      }
    },
    {
      "cell_type": "code",
      "source": [
        "#Evaluate on test set\n",
        "baseline = Sequential([\n",
        "  Embedding(\n",
        "      input_dim=vocab_size,\n",
        "      output_dim=embedding_dimension,\n",
        "      weights=[embedding_matrix],\n",
        "      mask_zero=True,\n",
        "      trainable=False\n",
        "  ),\n",
        "  Bidirectional(LSTM(64, return_sequences=False)),\n",
        "  Dense(1, activation='sigmoid')\n",
        "])\n",
        "\n",
        "baseline.build(input_shape=(32, 60))\n",
        "baseline.load_weights('/content/drive/MyDrive/assignment-2425/baseline_7.weights.h5')"
      ],
      "metadata": {
        "id": "2G_azCX1nzsO"
      },
      "execution_count": null,
      "outputs": []
    },
    {
      "cell_type": "code",
      "source": [
        "x_test = np.array(test['padded'].to_list()).astype('float32')\n",
        "y_test = test['hard_label_task1'].values.astype('float32')"
      ],
      "metadata": {
        "id": "DgAjiCH8n23Q"
      },
      "execution_count": null,
      "outputs": []
    },
    {
      "cell_type": "markdown",
      "source": [
        "plot the precision recall curve"
      ],
      "metadata": {
        "id": "5lrrQcmZ3NlO"
      }
    },
    {
      "cell_type": "code",
      "source": [
        "y_pred_probs = baseline.predict(x_test)\n",
        "y_pred_probs = y_pred_probs.ravel()\n",
        "\n",
        "# Calculate precision, recall, thresholds\n",
        "precision, recall, thresholds = precision_recall_curve(y_test, y_pred_probs)\n",
        "\n",
        "# Plot the Precision-Recall curve\n",
        "plt.figure()\n",
        "plt.plot(recall, precision, marker='.', label='Precision-Recall curve')\n",
        "plt.xlabel('Recall')\n",
        "plt.ylabel('Precision')\n",
        "plt.title('Precision-Recall Curve')\n",
        "plt.legend()\n",
        "plt.show()"
      ],
      "metadata": {
        "colab": {
          "base_uri": "https://localhost:8080/",
          "height": 489
        },
        "id": "hnTdqD-lnVjA",
        "outputId": "c7f9de7a-5f15-42c1-d810-5329184e9513"
      },
      "execution_count": null,
      "outputs": [
        {
          "output_type": "stream",
          "name": "stdout",
          "text": [
            "\u001b[1m9/9\u001b[0m \u001b[32m━━━━━━━━━━━━━━━━━━━━\u001b[0m\u001b[37m\u001b[0m \u001b[1m2s\u001b[0m 26ms/step\n"
          ]
        },
        {
          "output_type": "display_data",
          "data": {
            "text/plain": [
              "<Figure size 640x480 with 1 Axes>"
            ],
            "image/png": "[encoded data removed]"
          },
          "metadata": {}
        }
      ]
    },
    {
      "cell_type": "markdown",
      "source": [
        "plotting confusion matrix"
      ],
      "metadata": {
        "id": "0URTdu6J70GZ"
      }
    },
    {
      "cell_type": "code",
      "source": [
        "# Convert probabilities to binary class predictions\n",
        "y_pred_classes = (y_pred_probs > 0.5).astype(int)\n",
        "\n",
        "# Calculate confusion matrix\n",
        "cm = confusion_matrix(y_test, y_pred_classes)\n",
        "\n",
        "# Display confusion matrix using sklearn's visualization tool\n",
        "disp = ConfusionMatrixDisplay(confusion_matrix=cm, display_labels=[0, 1])\n",
        "disp.plot(cmap=plt.cm.Blues)\n",
        "plt.title('Confusion Matrix')\n",
        "plt.show()"
      ],
      "metadata": {
        "colab": {
          "base_uri": "https://localhost:8080/",
          "height": 472
        },
        "id": "oQDaopCLuvBU",
        "outputId": "73f7cfd2-1495-43e6-a382-1b682c0beaa7"
      },
      "execution_count": null,
      "outputs": [
        {
          "output_type": "display_data",
          "data": {
            "text/plain": [
              "<Figure size 640x480 with 2 Axes>"
            ],
            "image/png": "[encoded data removed]"
          },
          "metadata": {}
        }
      ]
    },
    {
      "cell_type": "code",
      "source": [
        "# Calculate confusion matrix\n",
        "cm = confusion_matrix(y_test, y_pred_classes, normalize='all')\n",
        "\n",
        "# Display confusion matrix using sklearn's visualization tool\n",
        "disp = ConfusionMatrixDisplay(confusion_matrix=cm, display_labels=[0, 1])\n",
        "disp.plot(cmap=plt.cm.Blues)\n",
        "plt.title('Confusion Matrix')\n",
        "plt.show()"
      ],
      "metadata": {
        "colab": {
          "base_uri": "https://localhost:8080/",
          "height": 472
        },
        "id": "yCh9FLX3wRax",
        "outputId": "1af7a36e-ba39-4cdd-f2d4-f8a3f9d6d215"
      },
      "execution_count": null,
      "outputs": [
        {
          "output_type": "display_data",
          "data": {
            "text/plain": [
              "<Figure size 640x480 with 2 Axes>"
            ],
            "image/png": "[encoded data removed]"
          },
          "metadata": {}
        }
      ]
    },
    {
      "cell_type": "code",
      "source": [
        "#check whether train and test sets are imbalanced\n",
        "print(f\"positive classes in test set: {(y_test == 1).sum()}; negative class in test set: {(y_test == 0).sum()}\")\n",
        "print(f\"positive classes in test set: {(y_train == 1).sum()}; negative class in test set: {(y_train == 0).sum()}\")"
      ],
      "metadata": {
        "colab": {
          "base_uri": "https://localhost:8080/"
        },
        "id": "sXKq2qqpvF8I",
        "outputId": "9523f24b-5126-4c36-970b-3ecc23f43da1"
      },
      "execution_count": null,
      "outputs": [
        {
          "output_type": "stream",
          "name": "stdout",
          "text": [
            "positive classes in test set: 126; negative class in test set: 160\n",
            "positive classes in test set: 1137; negative class in test set: 1733\n"
          ]
        }
      ]
    },
    {
      "cell_type": "code",
      "source": [
        "#Let's see example of errors\n",
        "\n",
        "# False Positive: Predicted as 1 but actual is 0\n",
        "false_positives = np.where((y_pred_classes == 1) & (y_test.astype('int32') == 0))[0]\n",
        "\n",
        "# False Negative: Predicted as 0 but actual is 1\n",
        "false_negatives = np.where((y_pred_classes == 0) & (y_test.astype('int32') == 1))[0]"
      ],
      "metadata": {
        "id": "0IxESBwAxDw4"
      },
      "execution_count": null,
      "outputs": []
    },
    {
      "cell_type": "code",
      "source": [
        "#detokenizing the sequences\n",
        "def detokenize(sequence, index_to_word):\n",
        "\n",
        "    # 4. Map tokens to indices, use 'UNK' index if not found\n",
        "    text = [index_to_word.get(token, '') for token in sequence]\n",
        "\n",
        "    return ' '.join(text)"
      ],
      "metadata": {
        "id": "ErZ2GAwC29nF"
      },
      "execution_count": null,
      "outputs": []
    },
    {
      "cell_type": "code",
      "source": [
        "#Let's see all False Negatives and count how many of them contain OOV\n",
        "oov = 0\n",
        "\n",
        "for id in false_negatives:\n",
        "    detokenized = detokenize(x_test[id][x_test[id]>0], idx_to_word)\n",
        "    print(f\"detokenized lemmatized version of tweet: {detokenized}\")\n",
        "    print(f\"real tweet: {test['tweet'].iloc[id]}\")\n",
        "    print(f\"{detokenized.count('UNK')} OOV tokens\")\n",
        "    print()\n",
        "    if 'UNK' in detokenized:\n",
        "      oov += 1\n",
        "\n",
        "print(f\"Number of False Negatives with OOV word is: {oov} out of {len(false_negatives)}\")"
      ],
      "metadata": {
        "colab": {
          "base_uri": "https://localhost:8080/"
        },
        "id": "nifj6j1synPN",
        "outputId": "8c24cd13-c840-4cdf-eeaf-690483460617"
      },
      "execution_count": null,
      "outputs": [
        {
          "output_type": "stream",
          "name": "stdout",
          "text": [
            "detokenized lemmatized version of tweet: UNK get gangbanged to death\n",
            "real tweet: suika gets gangbanged to death\n",
            "1 OOV tokens\n",
            "\n",
            "detokenized lemmatized version of tweet: maybe something involve her get gangbanged\n",
            "real tweet: maybe something involving her getting gangbanged\n",
            "0 OOV tokens\n",
            "\n",
            "detokenized lemmatized version of tweet: UNK islamic UNK of afghanistan have announce the end of UNK in the country cite gender UNK student will attend university on UNK wednesday and saturday while tuesday thursday and sunday be fix for male\n",
            "real tweet: kabul islamic emirate of afghanistan has announced the end of coeducation in the country citing gender harassmentfemale students will attend universities on monday wednesday and saturday while tuesday thursday and sunday are fixed for males\n",
            "5 OOV tokens\n",
            "\n",
            "detokenized lemmatized version of tweet: the violent UNK of a farright movement that see UNK a vessel for breed a new white generation express itself in a UNK on UNK to traditional gender UNK every minute to read take 5 min out of your sun\n",
            "real tweet: the violent antifeminism of a farright movement that sees principally as vessels for breeding a new white generation expresses itself in a fixation on areturn to traditional gender rolesworth every minute to read take 5 min out of your sun\n",
            "5 OOV tokens\n",
            "\n",
            "detokenized lemmatized version of tweet: hot girl cant get nowhere without a UNK\n",
            "real tweet: hot girls cant get nowhere without a gps\n",
            "1 OOV tokens\n",
            "\n",
            "detokenized lemmatized version of tweet: that gold digger be nice but the picture and set up for them be elite UNK be like the UNK of the UNK UNK always a work of art\n",
            "real tweet: that gold digger is nice but the picture and set up for them are elite pinwork is like the revealing of the mona lisa always a work of art\n",
            "4 OOV tokens\n",
            "\n",
            "detokenized lemmatized version of tweet: best way to do that be from behind her with your hand on her hip\n",
            "real tweet: best way to do that is from behind her with your hands on her hips\n",
            "0 OOV tokens\n",
            "\n",
            "detokenized lemmatized version of tweet: wait till ur husband mess up u gonna love the UNK death threat\n",
            "real tweet: wait till ur husband messes up u gonna love the scouser death threats\n",
            "1 OOV tokens\n",
            "\n",
            "detokenized lemmatized version of tweet: UNK i still get an exam tomorrow i hate woman\n",
            "real tweet: aughhh i still got an exam tomorrow i hate women\n",
            "1 OOV tokens\n",
            "\n",
            "detokenized lemmatized version of tweet: call to clean up UNK laddish culture after mp porn shame via\n",
            "real tweet: calls to clean up parliaments laddish culture after mps porn shame via\n",
            "1 OOV tokens\n",
            "\n",
            "detokenized lemmatized version of tweet: mansplaining the concept of a pee drawer to my partner who want me\n",
            "real tweet: mansplaining the concept of a pee drawer to my partner who want me\n",
            "0 OOV tokens\n",
            "\n",
            "detokenized lemmatized version of tweet: UNK cross legs amp UNK manspreading\n",
            "real tweet: wonwoo cross legs amp jun manspreading\n",
            "2 OOV tokens\n",
            "\n",
            "detokenized lemmatized version of tweet: go weak rn play the UNK manspreading i be on my knee\n",
            "real tweet: going weak rn playing the guitar manspreading i am on my knees\n",
            "1 OOV tokens\n",
            "\n",
            "detokenized lemmatized version of tweet: can you confront your misogyny misandry be hardly a problem in the world by comparison and if it exist it a reaction to abuse\n",
            "real tweet: can you confront your misogyny misandry is hardly a problem in the world by comparison and if it exists its a reaction to abuse\n",
            "0 OOV tokens\n",
            "\n",
            "detokenized lemmatized version of tweet: most woman nowadays look like this with no makeup hard to find the good one under ton of makeup always go on a date to the beach lol\n",
            "real tweet: most women nowadays look like this with no makeup hard to find the good ones under ton of makeup always go on a date to the beach lol\n",
            "0 OOV tokens\n",
            "\n",
            "detokenized lemmatized version of tweet: i dont need a man to tell me what to stand up for thank you\n",
            "real tweet: i dont need a man to tell me what to stand up for thank you\n",
            "0 OOV tokens\n",
            "\n",
            "detokenized lemmatized version of tweet: they arent because when a woman be financially stable she believe she doesnt need a man\n",
            "real tweet: they arent because when a woman is financially stable she believes she doesnt need a man\n",
            "0 OOV tokens\n",
            "\n",
            "detokenized lemmatized version of tweet: female UNK be UNK isnt always bad n i know UNK have always kinda have an UNK issue most medium do tbh but it seem to be nearly the only way the game be interested in present woman and it kinda suck esp since yea the game be good\n",
            "real tweet: female charas being flirtysexy isnt always bad n i know digimon has always kinda had an objectificationofwomen issue most media does tbh but it seems to be nearly the only way the game is interested in presenting women and it kinda sucks esp since yea the game is good\n",
            "4 OOV tokens\n",
            "\n",
            "detokenized lemmatized version of tweet: it objectification amp UNK i saw someone take time out of their day to make a strong political point about UNK sarcasm he tweet about how her photo look like it have lot of UNK such pathetic clown\n",
            "real tweet: its objectification amp dehumanizing i saw someone take time out of their day to make a strong political point about horwath sarcasm he tweeted about how her photo looked like it had lots of photoshop such pathetic clowns\n",
            "3 OOV tokens\n",
            "\n",
            "detokenized lemmatized version of tweet: why bother go to UNK if life there be just go to be more of the same toxic sexism racism and bigotry the same horrible oppression unfairness and inequality that make earth a living hell for so many\n",
            "real tweet: why bother going to mars if life there is just going to be more of the same toxic sexism racism and bigotry the same horrible oppression unfairness and inequality that makes earth a living hell for so many\n",
            "1 OOV tokens\n",
            "\n",
            "detokenized lemmatized version of tweet: have i miss something or have phallocentrism become the late cult\n",
            "real tweet: have i missed something or has phallocentrism become the latest cult\n",
            "0 OOV tokens\n",
            "\n",
            "detokenized lemmatized version of tweet: fuck sake be it possible to have a furry space thats not explicitly UNK and doesnt immediately become yet another showcase for UNK phallocentrism\n",
            "real tweet: fucks sake is it possible to have a furry space thats not explicitly contentrestricted and doesnt immediately become yet another showcase for sizequeen phallocentrism\n",
            "2 OOV tokens\n",
            "\n",
            "detokenized lemmatized version of tweet: cyborg politics be the struggle for language and the struggle against perfect communication against the one code that translate all mean perfectly the central UNK of phallogocentrism\n",
            "real tweet: cyborg politics is the struggle for language and the struggle against perfect communication against the one code that translates all meaning perfectly the central dogma of phallogocentrism\n",
            "1 OOV tokens\n",
            "\n",
            "detokenized lemmatized version of tweet: eat out both hole and then slide my dick in you and pound you till you UNK\n",
            "real tweet: eat out both holes and then slide my dick in you and pound you till you squirt\n",
            "1 OOV tokens\n",
            "\n",
            "detokenized lemmatized version of tweet: accord to the human right commission 1 in 3 people experience sexual harassment at work we have create an online course provide strategy to prevent and respond should UNK occur start your course at\n",
            "real tweet: according to the human rights commission 1 in 3 people experience sexual harassment at work we have created an online course providing strategies to prevent and respond should incidents occur start your course at\n",
            "1 OOV tokens\n",
            "\n",
            "detokenized lemmatized version of tweet: i dont care what gender race UNK orientation a person be as long a they be qualify for that position that be say be she qualify base on UNK or be she choose solely because she be black and gay to please UNK just say\n",
            "real tweet: i dont care what gender race religionsexual orientation a person is as long as they are qualified for that position that being said is she qualified based on experienceeducation or was she chosen solely because she is black and gay to please progressiveswoke just saying\n",
            "3 OOV tokens\n",
            "\n",
            "detokenized lemmatized version of tweet: it just show how money rule the world im so UNK that UNK would even allow it out of the building and to let that reality skank get it be an incredible insult i be wait for an sub full of UNK UNK to UNK her in the end UNK look well\n",
            "real tweet: it just shows how money rules the world im so disappointed that ripleys would even allow it out of the building and to let that reality skank get it was an incredible insult i was waiting for an sub full of armed robbers to overtake her in the end khloe looked better\n",
            "6 OOV tokens\n",
            "\n",
            "detokenized lemmatized version of tweet: i kinda get her point but a slag be too far off for me\n",
            "real tweet: i kinda get her point but a slag is too far off for me\n",
            "0 OOV tokens\n",
            "\n",
            "detokenized lemmatized version of tweet: yea back when i didnt even have one to slap unfortunate\n",
            "real tweet: yea back when i didnt even have one to slap unfortunate\n",
            "0 OOV tokens\n",
            "\n",
            "detokenized lemmatized version of tweet: jealous UNK talk about his new album u UNK slutbag\n",
            "real tweet: jealous plss talk about his new album u wrinkly slutbag\n",
            "2 OOV tokens\n",
            "\n",
            "detokenized lemmatized version of tweet: UNK i literally take it last night slutbag\n",
            "real tweet: der i literally took it last night slutbag\n",
            "1 OOV tokens\n",
            "\n",
            "detokenized lemmatized version of tweet: never know you all share UNK how do we stop be UNK again yeah\n",
            "real tweet: never knew you all share tits how did we stop being pals again yeah\n",
            "2 OOV tokens\n",
            "\n",
            "detokenized lemmatized version of tweet: UNK UNK\n",
            "real tweet: bounceeyyyy boobieeeessssss\n",
            "2 OOV tokens\n",
            "\n",
            "detokenized lemmatized version of tweet: then proceed to have the UNK to inform me that it be UNK and too early for trophy UNK talk\n",
            "real tweet: then proceeded to have the audacity to inform me that it was 8am and too early for trophy wifegf talk\n",
            "3 OOV tokens\n",
            "\n",
            "detokenized lemmatized version of tweet: i pack my UNK case when we be go to a UNK in england tell him to pop his underpants in get to england he put his UNK outfit on and everyone discover what a true UNK doesnt wear under his UNK if i dont do it it doesnt get do men\n",
            "real tweet: i packed my hubbies case when we were going to a wedding in england told him to pop his underpants in gets to england he puts his kilt outfit on and everyone discovered what a true scot doesnt wear under his kilt if i dont do it it doesnt get done men\n",
            "5 OOV tokens\n",
            "\n",
            "detokenized lemmatized version of tweet: woman before soy UNK and UNK UNK be just typical woman average back UNK\n",
            "real tweet: women before soy oil and corn syrupthose were just typical woman average back thenn\n",
            "4 OOV tokens\n",
            "\n",
            "detokenized lemmatized version of tweet: so why tf ya call it UNK shouldnt it be womanism if thats the case\n",
            "real tweet: so why tf ya call it femism shouldnt it be womanism if thats the case\n",
            "1 OOV tokens\n",
            "\n",
            "detokenized lemmatized version of tweet: you dont know who UNK womanism huh okay risk skin cancer i guess best of luck to you\n",
            "real tweet: you dont know who invented womanism huh okay risk skin cancer i guess best of luck to you\n",
            "1 OOV tokens\n",
            "\n",
            "detokenized lemmatized version of tweet: say the man who be always on his phone well in your case you can still UNK woman for sex while outside\n",
            "real tweet: says the man who is always on his phone well in your case you can still proposition women for sex while outside\n",
            "1 OOV tokens\n",
            "\n",
            "detokenized lemmatized version of tweet: 2 UNK room the other UNK i think you have be in term of your comparison to UNK novel while you may be correct that there may be a difference in interest in your comparison there be no UNK for men to buy UNK novel woman have to UNK themselves for\n",
            "real tweet: 2 poker rooms the other fallacy i think you have is in terms of your comparison to romance novels while you may be correct that there may be a difference in interest in your comparison there are no barriers for men to buy romance novels women have to brace themselves for\n",
            "6 OOV tokens\n",
            "\n",
            "detokenized lemmatized version of tweet: didnt abuse him say it to his UNK to prove this be a false UNK the UNK UNK hurting of woman generally to the extent he warn his companion that woman shouldnt be hurt during war UNK of be UNK UNK be against kill of any unless\n",
            "real tweet: didnt abuse him saying it to his faceproofs to prove this is a false writing_ the prophet detest hurting of women generally to the extent he warned his companions that women shouldnt be hurt during wars talkless of being killedthe prophet is against killing of any unless\n",
            "7 OOV tokens\n",
            "\n",
            "detokenized lemmatized version of tweet: you look like a UNK i be now move UNK i dont like you\n",
            "real tweet: you look like a bitchwell i am now move kz i dont like you\n",
            "2 OOV tokens\n",
            "\n",
            "detokenized lemmatized version of tweet: this UNK be no more then selfish cunt more matter how genuine you be you do all the right thing and they still make you look like a cunt it only get bad too and people ask me why i dont bother with anyone\n",
            "real tweet: this genration are no more then selfish cunts more matter how genuine you are you do all the right things and they still make you look like a cunt its only getting worse too and people ask me why i dont bother with anyone\n",
            "1 OOV tokens\n",
            "\n",
            "Number of False Negatives with OOV word is: 33 out of 43\n"
          ]
        }
      ]
    },
    {
      "cell_type": "code",
      "source": [
        "#looking at the worst False Negatives\n",
        "worst_FN = np.where(y_pred_probs[false_negatives] <= 0.1)[0]\n",
        "\n",
        "for id in worst_FN:\n",
        "    detokenized = detokenize(x_test[false_negatives[id]][x_test[false_negatives[id]]>0], idx_to_word)\n",
        "    print(y_pred_probs[false_negatives[id]])\n",
        "    print(f\"detokenized lemmatized version of tweet: {detokenized}\")\n",
        "    print(f\"real tweet: {test['tweet'].iloc[false_negatives[id]]}\")\n",
        "    print(f\"{detokenized.count('UNK')} OOV tokens\")\n",
        "    print()"
      ],
      "metadata": {
        "colab": {
          "base_uri": "https://localhost:8080/"
        },
        "id": "f6gj2C_-7O9N",
        "outputId": "ba1ebbb5-3109-4341-dca4-641db05106a6"
      },
      "execution_count": null,
      "outputs": [
        {
          "output_type": "stream",
          "name": "stdout",
          "text": [
            "0.027638953\n",
            "detokenized lemmatized version of tweet: the violent UNK of a farright movement that see UNK a vessel for breed a new white generation express itself in a UNK on UNK to traditional gender UNK every minute to read take 5 min out of your sun\n",
            "real tweet: the violent antifeminism of a farright movement that sees principally as vessels for breeding a new white generation expresses itself in a fixation on areturn to traditional gender rolesworth every minute to read take 5 min out of your sun\n",
            "5 OOV tokens\n",
            "\n",
            "0.008614599\n",
            "detokenized lemmatized version of tweet: that gold digger be nice but the picture and set up for them be elite UNK be like the UNK of the UNK UNK always a work of art\n",
            "real tweet: that gold digger is nice but the picture and set up for them are elite pinwork is like the revealing of the mona lisa always a work of art\n",
            "4 OOV tokens\n",
            "\n",
            "0.09381234\n",
            "detokenized lemmatized version of tweet: go weak rn play the UNK manspreading i be on my knee\n",
            "real tweet: going weak rn playing the guitar manspreading i am on my knees\n",
            "1 OOV tokens\n",
            "\n",
            "0.014328657\n",
            "detokenized lemmatized version of tweet: why bother go to UNK if life there be just go to be more of the same toxic sexism racism and bigotry the same horrible oppression unfairness and inequality that make earth a living hell for so many\n",
            "real tweet: why bother going to mars if life there is just going to be more of the same toxic sexism racism and bigotry the same horrible oppression unfairness and inequality that makes earth a living hell for so many\n",
            "1 OOV tokens\n",
            "\n",
            "0.034157816\n",
            "detokenized lemmatized version of tweet: fuck sake be it possible to have a furry space thats not explicitly UNK and doesnt immediately become yet another showcase for UNK phallocentrism\n",
            "real tweet: fucks sake is it possible to have a furry space thats not explicitly contentrestricted and doesnt immediately become yet another showcase for sizequeen phallocentrism\n",
            "2 OOV tokens\n",
            "\n",
            "0.008939821\n",
            "detokenized lemmatized version of tweet: cyborg politics be the struggle for language and the struggle against perfect communication against the one code that translate all mean perfectly the central UNK of phallogocentrism\n",
            "real tweet: cyborg politics is the struggle for language and the struggle against perfect communication against the one code that translates all meaning perfectly the central dogma of phallogocentrism\n",
            "1 OOV tokens\n",
            "\n",
            "0.07122347\n",
            "detokenized lemmatized version of tweet: eat out both hole and then slide my dick in you and pound you till you UNK\n",
            "real tweet: eat out both holes and then slide my dick in you and pound you till you squirt\n",
            "1 OOV tokens\n",
            "\n",
            "0.01392036\n",
            "detokenized lemmatized version of tweet: accord to the human right commission 1 in 3 people experience sexual harassment at work we have create an online course provide strategy to prevent and respond should UNK occur start your course at\n",
            "real tweet: according to the human rights commission 1 in 3 people experience sexual harassment at work we have created an online course providing strategies to prevent and respond should incidents occur start your course at\n",
            "1 OOV tokens\n",
            "\n",
            "0.027484491\n",
            "detokenized lemmatized version of tweet: it just show how money rule the world im so UNK that UNK would even allow it out of the building and to let that reality skank get it be an incredible insult i be wait for an sub full of UNK UNK to UNK her in the end UNK look well\n",
            "real tweet: it just shows how money rules the world im so disappointed that ripleys would even allow it out of the building and to let that reality skank get it was an incredible insult i was waiting for an sub full of armed robbers to overtake her in the end khloe looked better\n",
            "6 OOV tokens\n",
            "\n",
            "0.044881955\n",
            "detokenized lemmatized version of tweet: UNK i literally take it last night slutbag\n",
            "real tweet: der i literally took it last night slutbag\n",
            "1 OOV tokens\n",
            "\n",
            "0.09312115\n",
            "detokenized lemmatized version of tweet: never know you all share UNK how do we stop be UNK again yeah\n",
            "real tweet: never knew you all share tits how did we stop being pals again yeah\n",
            "2 OOV tokens\n",
            "\n",
            "0.09947425\n",
            "detokenized lemmatized version of tweet: then proceed to have the UNK to inform me that it be UNK and too early for trophy UNK talk\n",
            "real tweet: then proceeded to have the audacity to inform me that it was 8am and too early for trophy wifegf talk\n",
            "3 OOV tokens\n",
            "\n",
            "0.07993914\n",
            "detokenized lemmatized version of tweet: so why tf ya call it UNK shouldnt it be womanism if thats the case\n",
            "real tweet: so why tf ya call it femism shouldnt it be womanism if thats the case\n",
            "1 OOV tokens\n",
            "\n"
          ]
        }
      ]
    },
    {
      "cell_type": "code",
      "source": [
        "#Let's see all False Positives and count how many of them contain OOV\n",
        "oov = 0\n",
        "\n",
        "for id in false_positives:\n",
        "    detokenized = detokenize(x_test[id][x_test[id]>0], idx_to_word)\n",
        "    print(f\"detokenized lemmatized version of tweet: {detokenized}\")\n",
        "    print(f\"real tweet: {test['tweet'].iloc[id]}\")\n",
        "    print(f\"{detokenized.count('UNK')} OOV tokens\")\n",
        "    print()\n",
        "    if 'UNK' in detokenized:\n",
        "      oov += 1\n",
        "\n",
        "print(f\"Number of False Positives with OOV word is: {oov} out of {len(false_positives)}\")"
      ],
      "metadata": {
        "colab": {
          "base_uri": "https://localhost:8080/"
        },
        "id": "jwIrJ2-j1cvz",
        "outputId": "663dda6b-aff2-49da-9201-ea5474b1429e"
      },
      "execution_count": null,
      "outputs": [
        {
          "output_type": "stream",
          "name": "stdout",
          "text": [
            "detokenized lemmatized version of tweet: sex a in gender harassment be what they be UNK\n",
            "real tweet: sex as in gender harassment is what they are inferring\n",
            "1 OOV tokens\n",
            "\n",
            "detokenized lemmatized version of tweet: my baby call me UNK sha for the first time today twice yall dont understand how UNK that make me baby girl have autism and get her to talk without be prompt have be a challenge shes come so far\n",
            "real tweet: my baby called me mommy sha for the first time today twice yall dont understand how hype that made me baby girl has autism and getting her to talk without being prompted has been a challenge shes come so far\n",
            "2 OOV tokens\n",
            "\n",
            "detokenized lemmatized version of tweet: how do we reach a point where UNK be have the UNK to talk about UNK rap do yall see who you stan be yall ok your girl cant write cant deliver cant come close to UNK UNK tf be yall get brave for fashion deal\n",
            "real tweet: how did we reach a point where blonks are having the audacity to talk about yoongis rap do yall see who you stan are yall ok your girls cant write cant deliver cant come close to btss lyricism tf are yall getting brave for fashion deals\n",
            "5 OOV tokens\n",
            "\n",
            "detokenized lemmatized version of tweet: he try to expose this gold digger but it UNK 90 day fiance b via\n",
            "real tweet: he tries to expose this gold digger but it backfires 90 day fiance b via\n",
            "1 OOV tokens\n",
            "\n",
            "detokenized lemmatized version of tweet: yall be husband and wife and best friend you guy have so much fun it awesome you keep each other laughing and smile\n",
            "real tweet: yall are husband and wife and best friends you guys have so much fun its awesome you keep each other laughing and smiling\n",
            "0 OOV tokens\n",
            "\n",
            "detokenized lemmatized version of tweet: yup i hate when men rape and kill woman\n",
            "real tweet: yup i hate when men rape and kill women\n",
            "0 OOV tokens\n",
            "\n",
            "detokenized lemmatized version of tweet: UNK let anyone body shame you in any wayyou be fat so UNK be beautiful my UNK confident in UNK\n",
            "real tweet: ladiesdont let anyone body shame you in any wayyou are fat so whatyou are beautiful my dearbe confident in yourselfpeace\n",
            "4 OOV tokens\n",
            "\n",
            "detokenized lemmatized version of tweet: stop dont lie to these people lady dont let this man trick you out of the great UNK of your life cause what\n",
            "real tweet: stop dont lie to these people ladies dont let this man trick you out of the greatest organs of your life cause what\n",
            "1 OOV tokens\n",
            "\n",
            "detokenized lemmatized version of tweet: lady dont have a miscarriage in UNK if you do in addition to probably have your friend and family sue by some UNK UNK youll be charge with murder\n",
            "real tweet: ladies dont have a miscarriage in louisiana if you do in addition to probably having your friends and family sued by some opportunistic yokel youll be charged with murder\n",
            "3 OOV tokens\n",
            "\n",
            "detokenized lemmatized version of tweet: not all men look good with beard btw pls stop try to grow it out\n",
            "real tweet: not all men look good with beard btw pls stop trying to grow it out\n",
            "0 OOV tokens\n",
            "\n",
            "detokenized lemmatized version of tweet: on the audio from when his finger be cut off even the people that be there say she do it she say shes totally against cocaine but do cocaine try to say the nurse be basically lie in her note about her do drug everyone be lie but her\n",
            "real tweet: on the audio from when his finger was cut off even the people that were there said she did it she says shes totally against cocaine but does cocaine tries to say the nurse is basically lying in her notes about her doing drugs everyone is lying but her\n",
            "0 OOV tokens\n",
            "\n",
            "detokenized lemmatized version of tweet: it be interest to see other UNK lie in english that the reason they didnt feed child be because it would take away from their family time etc no it UNK a patriarchal this be the food we have for the winter for our mouth not others\n",
            "real tweet: it was interesting to see other swedes lying in english that the reason they didnt feed children was because it would take away from their family time etc no its survivalism a patriarchal this is the food we have for the winter for our mouths not others\n",
            "2 OOV tokens\n",
            "\n",
            "detokenized lemmatized version of tweet: part of the experience of be a black man be deal with the penis envy amp gossip mentality of other race of men we just be chill amp they be hat for no reason it definitely something that stay in the back of some of their mind but men in general get along very well\n",
            "real tweet: part of the experience of being a black man is dealing with the penis envy amp gossip mentality of other races of men we just be chilling amp they be hating for no reason its definitely something that stays in the back of some of their minds but men in general get along very well\n",
            "0 OOV tokens\n",
            "\n",
            "detokenized lemmatized version of tweet: call a man bald be sexual harassment via\n",
            "real tweet: calling a man bald is sexual harassment via\n",
            "0 OOV tokens\n",
            "\n",
            "detokenized lemmatized version of tweet: the bill define UNK therapy a practice intend to change a lesbian gay bisexual transgender or queer individual sexual orientation gender identity or both\n",
            "real tweet: the bill defined conversion therapy as practices intended to change a lesbian gay bisexual transgender or queer individuals sexual orientation gender identity or both\n",
            "1 OOV tokens\n",
            "\n",
            "detokenized lemmatized version of tweet: so you stereotype someone base on their appearance be what make you some form of UNK individual a oppose to a UNK racist cretin get it judge people by the race and appearance accord to this guy\n",
            "real tweet: so you stereotyping someone based on their appearance is what makes you some form of enlightened individual as opposed to a throwback racist cretin got it judge people by the race and appearance according to this guy\n",
            "2 OOV tokens\n",
            "\n",
            "detokenized lemmatized version of tweet: cant take my eye off you youd be like heaven to touch i wanna hold you so much\n",
            "real tweet: cant take my eyes off you youd be like heaven to touch i wanna hold you so much\n",
            "0 OOV tokens\n",
            "\n",
            "detokenized lemmatized version of tweet: oh so now u cant understand womens word\n",
            "real tweet: oh so now u cant understand womens words\n",
            "0 OOV tokens\n",
            "\n",
            "detokenized lemmatized version of tweet: the question be do i wear the very short skirt that literally show my as with UNK or UNK out for a short\n",
            "real tweet: the question is do i wear the very short skirt that literally shows my ass with kneehighs or opt out for a short\n",
            "2 OOV tokens\n",
            "\n",
            "detokenized lemmatized version of tweet: im so annoy by ex mutuals who hurt my friend amp UNK act like UNK good when it be a couple month amp they can UNK try to UNK me again amp when i dont forgive them they pull this victim card shit on my own friend like how dare you\n",
            "real tweet: im so annoyed by ex mutuals who hurt my friends amp suddenly act like everythings good when its been a couple months amp they can suddenly try to befriend me again amp when i dont forgive them they pull this victim card shit on my own friends like how dare you\n",
            "4 OOV tokens\n",
            "\n",
            "detokenized lemmatized version of tweet: my new favorite meme be the pregnant woman drive in the UNK UNK lane tell the state trooper who pull her over that she be drive with another person\n",
            "real tweet: my new favorite meme is the pregnant woman driving in the oklahoma hov lane telling the state trooper who pulled her over that she is driving with another person\n",
            "2 OOV tokens\n",
            "\n",
            "detokenized lemmatized version of tweet: yeah woman be get just a bad ive notice it anyway im sorry people be send you stuff like that it can be so gross\n",
            "real tweet: yeah women are getting just as bad ive noticed it anyway im sorry people are sending you stuff like that it can be so gross\n",
            "0 OOV tokens\n",
            "\n",
            "detokenized lemmatized version of tweet: yo i swear UNK men and woman be the funny\n",
            "real tweet: yo i swear sagittarius men and women are the funniest\n",
            "1 OOV tokens\n",
            "\n",
            "detokenized lemmatized version of tweet: woman shouldnt have to share their trauma story for you to feel empathy for the way theyre feel today stand with them we deserve a choice UNK si UNK\n",
            "real tweet: women shouldnt have to share their trauma stories for you to feel empathy for the way theyre feeling today stand with them we deserve a choice juntas si podemos\n",
            "2 OOV tokens\n",
            "\n",
            "detokenized lemmatized version of tweet: how will they be drag by action i show you where i be stand i tell you what i be wear im not go to yell or shout just hold a sign how will that bring hate upon the guy\n",
            "real tweet: how will they be dragged by actions i showed you where i am standing i told you what i am wearing im not going to yell or shout just holding a sign how will that bring hate upon the guys\n",
            "0 OOV tokens\n",
            "\n",
            "Number of False Positives with OOV word is: 15 out of 25\n"
          ]
        }
      ]
    },
    {
      "cell_type": "code",
      "source": [
        "#worst False Positives\n",
        "worst_FP = np.where(y_pred_probs[false_positives] >= 0.9)[0]\n",
        "\n",
        "for id in worst_FP:\n",
        "    detokenized = detokenize(x_test[false_positives[id]][x_test[false_positives[id]]>0], idx_to_word)\n",
        "    print(y_pred_probs[false_positives[id]])\n",
        "    print(f\"detokenized lemmatized version of tweet: {detokenized}\")\n",
        "    print(f\"real tweet: {test['tweet'].iloc[false_positives[id]]}\")\n",
        "    print(f\"{detokenized.count('UNK')} OOV tokens\")\n",
        "    print()"
      ],
      "metadata": {
        "colab": {
          "base_uri": "https://localhost:8080/"
        },
        "id": "T7UqHM7mAd0b",
        "outputId": "e4f87186-e33f-4599-e224-b8f42d3a8e51"
      },
      "execution_count": null,
      "outputs": [
        {
          "output_type": "stream",
          "name": "stdout",
          "text": [
            "0.989393\n",
            "detokenized lemmatized version of tweet: yup i hate when men rape and kill woman\n",
            "real tweet: yup i hate when men rape and kill women\n",
            "0 OOV tokens\n",
            "\n",
            "0.9421292\n",
            "detokenized lemmatized version of tweet: not all men look good with beard btw pls stop try to grow it out\n",
            "real tweet: not all men look good with beard btw pls stop trying to grow it out\n",
            "0 OOV tokens\n",
            "\n",
            "0.90187263\n",
            "detokenized lemmatized version of tweet: my new favorite meme be the pregnant woman drive in the UNK UNK lane tell the state trooper who pull her over that she be drive with another person\n",
            "real tweet: my new favorite meme is the pregnant woman driving in the oklahoma hov lane telling the state trooper who pulled her over that she is driving with another person\n",
            "2 OOV tokens\n",
            "\n"
          ]
        }
      ]
    },
    {
      "cell_type": "markdown",
      "source": [
        "#### Error analysis for transformer model"
      ],
      "metadata": {
        "id": "BqvPXDlSFiAe"
      }
    },
    {
      "cell_type": "code",
      "source": [
        "#load the model\n",
        "model_directory = \"/content/drive/MyDrive/assignment-2425/transformer/results/checkpoint-359\"\n",
        "\n",
        "tokenizer = AutoTokenizer.from_pretrained(model_directory)\n",
        "model = AutoModelForSequenceClassification.from_pretrained(model_directory, num_labels=2)\n",
        "\n",
        "device = torch.device(\"cuda\") if torch.cuda.is_available() else torch.device(\"cpu\")\n",
        "model.to(device)\n",
        "print()"
      ],
      "metadata": {
        "id": "A72uY8EXG1ht"
      },
      "execution_count": null,
      "outputs": []
    },
    {
      "cell_type": "code",
      "source": [
        "train_texts = training['lemmatized'].tolist()\n",
        "val_texts = validation['lemmatized'].tolist()\n",
        "test_texts = test['lemmatized'].tolist()\n",
        "\n",
        "train_labels = training['hard_label_task1'].tolist()\n",
        "val_labels = validation['hard_label_task1'].tolist()\n",
        "test_labels = test['hard_label_task1'].tolist()"
      ],
      "metadata": {
        "id": "P9oxax96SO0J"
      },
      "execution_count": null,
      "outputs": []
    },
    {
      "cell_type": "code",
      "source": [
        "# Tokenize the training and testing data\n",
        "train_encodings = tokenizer(train_texts)\n",
        "val_encodings = tokenizer(val_texts)\n",
        "test_encodings = tokenizer(test_texts)"
      ],
      "metadata": {
        "id": "3X9oSi0oSP8X"
      },
      "execution_count": null,
      "outputs": []
    },
    {
      "cell_type": "code",
      "source": [
        "class SexismDataset(Dataset):\n",
        "    def __init__(self, encodings, labels):\n",
        "        self.encodings = encodings\n",
        "        self.labels = labels\n",
        "\n",
        "    def __getitem__(self, idx):\n",
        "        item = {key: torch.tensor(val[idx]) for key, val in self.encodings.items()}\n",
        "        item['labels'] = torch.tensor(self.labels[idx])\n",
        "        return item\n",
        "\n",
        "    def __len__(self):\n",
        "        return len(self.labels)\n",
        "\n",
        "train_dataset = SexismDataset(train_encodings, train_labels)\n",
        "val_dataset = SexismDataset(val_encodings, val_labels)\n",
        "test_dataset = SexismDataset(test_encodings, test_labels)"
      ],
      "metadata": {
        "id": "kQNfmpknSV9E"
      },
      "execution_count": null,
      "outputs": []
    },
    {
      "cell_type": "code",
      "source": [
        "def predict_sexism(texts, tokenizer, model, device, threshold=0.5):\n",
        "    \"\"\"\n",
        "    Predicts whether each text in `texts` contains sexism.\n",
        "\n",
        "    Args:\n",
        "        texts (list of str): The input texts to classify.\n",
        "        tokenizer (transformers.PreTrainedTokenizer): The tokenizer.\n",
        "        model (transformers.PreTrainedModel): The classification model.\n",
        "        device (torch.device): The device to run the model on.\n",
        "        threshold (float): Threshold for classification (optional).\n",
        "\n",
        "    Returns:\n",
        "        list of int: Predictions (0 or 1) for each text.\n",
        "        list of float: Probability scores for the positive class.\n",
        "    \"\"\"\n",
        "    # Tokenize the input texts\n",
        "    encodings = tokenizer(\n",
        "        texts,\n",
        "        truncation=True,\n",
        "        padding=True,\n",
        "        return_tensors=\"pt\"\n",
        "    )\n",
        "\n",
        "    # Move tensors to the appropriate device\n",
        "    input_ids = encodings['input_ids'].to(device)\n",
        "    attention_mask = encodings['attention_mask'].to(device)\n",
        "\n",
        "    # Perform inference without gradient computation\n",
        "    with torch.no_grad():\n",
        "        outputs = model(input_ids=input_ids, attention_mask=attention_mask)\n",
        "        logits = outputs.logits\n",
        "\n",
        "    # Apply softmax to get probabilities\n",
        "    probabilities = torch.softmax(logits, dim=1)[:, 1].cpu().numpy()  # Probability for class 1\n",
        "\n",
        "    # Apply threshold to get binary predictions\n",
        "    predictions = (probabilities >= threshold).astype(int)\n",
        "\n",
        "    return predictions.tolist(), probabilities.tolist()"
      ],
      "metadata": {
        "id": "9YREP0SsSeHS"
      },
      "execution_count": null,
      "outputs": []
    },
    {
      "cell_type": "code",
      "source": [
        "# getting the predictions\n",
        "tweets = test['lemmatized'].values.tolist()\n",
        "\n",
        "predictions, probabilities = predict_sexism(tweets, tokenizer, model, device)"
      ],
      "metadata": {
        "id": "71aS7bbqS8Ov"
      },
      "execution_count": null,
      "outputs": []
    },
    {
      "cell_type": "code",
      "source": [
        "print(f1_score(test_labels, predictions, average='macro'))"
      ],
      "metadata": {
        "colab": {
          "base_uri": "https://localhost:8080/"
        },
        "id": "z-cQrBBdqRBd",
        "outputId": "a116e1b0-929f-4777-8f85-8e3369c77042"
      },
      "execution_count": null,
      "outputs": [
        {
          "output_type": "stream",
          "name": "stdout",
          "text": [
            "0.7761799951088286\n"
          ]
        }
      ]
    },
    {
      "cell_type": "markdown",
      "source": [
        "Plotting precision-recall curve"
      ],
      "metadata": {
        "id": "vsK6s0WF9B2q"
      }
    },
    {
      "cell_type": "code",
      "source": [
        "# Calculate precision, recall, thresholds\n",
        "precision, recall, thresholds = precision_recall_curve(test_labels, probabilities)\n",
        "\n",
        "# Plot the Precision-Recall curve\n",
        "plt.figure()\n",
        "plt.plot(recall, precision, marker='.', label='Precision-Recall curve')\n",
        "plt.xlabel('Recall')\n",
        "plt.ylabel('Precision')\n",
        "plt.title('Precision-Recall Curve')\n",
        "plt.legend()\n",
        "plt.show()"
      ],
      "metadata": {
        "colab": {
          "base_uri": "https://localhost:8080/",
          "height": 472
        },
        "id": "qSAMnyz1Win4",
        "outputId": "10436b84-10ec-4033-f411-effcd20b9908"
      },
      "execution_count": null,
      "outputs": [
        {
          "output_type": "display_data",
          "data": {
            "text/plain": [
              "<Figure size 640x480 with 1 Axes>"
            ],
            "image/png": "[encoded data removed]"
          },
          "metadata": {}
        }
      ]
    },
    {
      "cell_type": "markdown",
      "source": [
        "plotting confusion matrices"
      ],
      "metadata": {
        "id": "URYAdho69QAL"
      }
    },
    {
      "cell_type": "code",
      "source": [
        "cm = confusion_matrix(test_labels, predictions)\n",
        "\n",
        "# Display confusion matrix using sklearn's visualization tool\n",
        "disp = ConfusionMatrixDisplay(confusion_matrix=cm, display_labels=[0, 1])\n",
        "disp.plot(cmap=plt.cm.Blues)\n",
        "plt.title('Confusion Matrix')\n",
        "plt.show()"
      ],
      "metadata": {
        "colab": {
          "base_uri": "https://localhost:8080/",
          "height": 472
        },
        "id": "XX_RY3mtZfFy",
        "outputId": "e8bdb973-d322-47ec-f285-ce67dad10514"
      },
      "execution_count": null,
      "outputs": [
        {
          "output_type": "display_data",
          "data": {
            "text/plain": [
              "<Figure size 640x480 with 2 Axes>"
            ],
            "image/png": "[encoded data removed]"
          },
          "metadata": {}
        }
      ]
    },
    {
      "cell_type": "code",
      "source": [
        "cm = confusion_matrix(test_labels, predictions, normalize='all')\n",
        "\n",
        "# Display confusion matrix using sklearn's visualization tool\n",
        "disp = ConfusionMatrixDisplay(confusion_matrix=cm, display_labels=[0, 1])\n",
        "disp.plot(cmap=plt.cm.Blues)\n",
        "plt.title('Confusion Matrix')\n",
        "plt.show()"
      ],
      "metadata": {
        "colab": {
          "base_uri": "https://localhost:8080/",
          "height": 472
        },
        "id": "U3g8grl2Z66A",
        "outputId": "0aa7c402-4799-4020-8bb5-e0b7af7719dd"
      },
      "execution_count": null,
      "outputs": [
        {
          "output_type": "display_data",
          "data": {
            "text/plain": [
              "<Figure size 640x480 with 2 Axes>"
            ],
            "image/png": "[encoded data removed]"
          },
          "metadata": {}
        }
      ]
    },
    {
      "cell_type": "code",
      "source": [
        "#Let's see example of errors\n",
        "\n",
        "# False Positive: Predicted as 1 but actual is 0\n",
        "false_positives = np.where((np.asarray(predictions) == 1) & (np.asarray(test_labels) == 0))[0]\n",
        "\n",
        "# False Negative: Predicted as 0 but actual is 1\n",
        "false_negatives = np.where((np.asarray(predictions) == 0) & (np.asarray(test_labels) == 1))[0]"
      ],
      "metadata": {
        "id": "54QkQ2S_gI1B"
      },
      "execution_count": null,
      "outputs": []
    },
    {
      "cell_type": "code",
      "source": [
        "#Let's see all False Negatives\n",
        "\n",
        "for id in false_negatives:\n",
        "    detokenized = tokenizer.decode(test_encodings['input_ids'][id])\n",
        "    print(f\"detokenized version of tweet: {detokenized}\")\n",
        "    print(f\"real tweet: {test['tweet'].iloc[id]}\")\n",
        "    print(f\"confidence: {probabilities[id]}\")\n",
        "    print()"
      ],
      "metadata": {
        "colab": {
          "base_uri": "https://localhost:8080/"
        },
        "id": "Iq0jq2tcgnBx",
        "outputId": "0ba6f8a7-430a-4afe-c0b8-71088f515efc"
      },
      "execution_count": null,
      "outputs": [
        {
          "output_type": "stream",
          "name": "stdout",
          "text": [
            "detokenized version of tweet: <s>the violent antifeminism of a farright movement that see principally a vessel for breed a new white generation express itself in a fixation on areturn to traditional gender rolesworth every minute to read take 5 min out of your sun</s>\n",
            "real tweet: the violent antifeminism of a farright movement that sees principally as vessels for breeding a new white generation expresses itself in a fixation on areturn to traditional gender rolesworth every minute to read take 5 min out of your sun\n",
            "confidence: 0.4322090148925781\n",
            "\n",
            "detokenized version of tweet: <s>that gold digger be nice but the picture and set up for them be elite pinwork be like the revealing of the mona lisa always a work of art</s>\n",
            "real tweet: that gold digger is nice but the picture and set up for them are elite pinwork is like the revealing of the mona lisa always a work of art\n",
            "confidence: 0.16468659043312073\n",
            "\n",
            "detokenized version of tweet: <s>call to clean up parliament laddish culture after mp porn shame via</s>\n",
            "real tweet: calls to clean up parliaments laddish culture after mps porn shame via\n",
            "confidence: 0.4261229336261749\n",
            "\n",
            "detokenized version of tweet: <s>mansplaining the concept of a pee drawer to my partner who want me</s>\n",
            "real tweet: mansplaining the concept of a pee drawer to my partner who want me\n",
            "confidence: 0.37088698148727417\n",
            "\n",
            "detokenized version of tweet: <s>go weak rn play the guitar manspreading i be on my knee</s>\n",
            "real tweet: going weak rn playing the guitar manspreading i am on my knees\n",
            "confidence: 0.1800687313079834\n",
            "\n",
            "detokenized version of tweet: <s>have i miss something or have phallocentrism become the late cult</s>\n",
            "real tweet: have i missed something or has phallocentrism become the latest cult\n",
            "confidence: 0.18285216391086578\n",
            "\n",
            "detokenized version of tweet: <s>fuck sake be it possible to have a furry space thats not explicitly contentrestricted and doesnt immediately become yet another showcase for sizequeen phallocentrism</s>\n",
            "real tweet: fucks sake is it possible to have a furry space thats not explicitly contentrestricted and doesnt immediately become yet another showcase for sizequeen phallocentrism\n",
            "confidence: 0.14785633981227875\n",
            "\n",
            "detokenized version of tweet: <s>cyborg politics be the struggle for language and the struggle against perfect communication against the one code that translate all mean perfectly the central dogma of phallogocentrism</s>\n",
            "real tweet: cyborg politics is the struggle for language and the struggle against perfect communication against the one code that translates all meaning perfectly the central dogma of phallogocentrism\n",
            "confidence: 0.08810625970363617\n",
            "\n",
            "detokenized version of tweet: <s>it ironic that the majority of the people happy about this in the comment be people who cant get pregnant</s>\n",
            "real tweet: its ironic that the majority of the people happy about this in the comments are people who cant get pregnant\n",
            "confidence: 0.3380202353000641\n",
            "\n",
            "detokenized version of tweet: <s>accord to the human right commission 1 in 3 people experience sexual harassment at work we have create an online course provide strategy to prevent and respond should incidents occur start your course at</s>\n",
            "real tweet: according to the human rights commission 1 in 3 people experience sexual harassment at work we have created an online course providing strategies to prevent and respond should incidents occur start your course at\n",
            "confidence: 0.4779728651046753\n",
            "\n",
            "detokenized version of tweet: <s>i kinda get her point but a slag be too far off for me</s>\n",
            "real tweet: i kinda get her point but a slag is too far off for me\n",
            "confidence: 0.4661295413970947\n",
            "\n",
            "detokenized version of tweet: <s>yea back when i didnt even have one to slap unfortunate</s>\n",
            "real tweet: yea back when i didnt even have one to slap unfortunate\n",
            "confidence: 0.2513048052787781\n",
            "\n",
            "detokenized version of tweet: <s>say no to the superwoman syndrome</s>\n",
            "real tweet: say no to the superwoman syndrome\n",
            "confidence: 0.46020275354385376\n",
            "\n"
          ]
        }
      ]
    },
    {
      "cell_type": "code",
      "source": [
        "#Let's see all False Positives\n",
        "\n",
        "for id in false_positives:\n",
        "    detokenized = tokenizer.decode(test_encodings['input_ids'][id])\n",
        "    print(f\"detokenized version of tweet: {detokenized}\")\n",
        "    print(f\"real tweet: {test['tweet'].iloc[id]}\")\n",
        "    print(f\"confidence: {probabilities[id]}\")\n",
        "    print()\n"
      ],
      "metadata": {
        "colab": {
          "base_uri": "https://localhost:8080/"
        },
        "id": "VEOsmnryku1r",
        "outputId": "4462cc95-0db0-4f6b-f7a3-8ffa3cff61bc"
      },
      "execution_count": null,
      "outputs": [
        {
          "output_type": "stream",
          "name": "stdout",
          "text": [
            "detokenized version of tweet: <s>i mean i do but wouldnt it be fun to get gangbanged together</s>\n",
            "real tweet: i mean i do but wouldnt it be fun to get gangbanged together\n",
            "confidence: 0.7706142067909241\n",
            "\n",
            "detokenized version of tweet: <s>sex a in gender harassment be what they be infer</s>\n",
            "real tweet: sex as in gender harassment is what they are inferring\n",
            "confidence: 0.7141639590263367\n",
            "\n",
            "detokenized version of tweet: <s>appreciate be include along with on the uvalde gunman history of cyber gender harassment regrettably unshocking</s>\n",
            "real tweet: appreciate being included along with on the uvalde gunmans history of cyber gender harassment regrettably unshocking\n",
            "confidence: 0.6211192607879639\n",
            "\n",
            "detokenized version of tweet: <s>isa hot girl summer now pop yall shit</s>\n",
            "real tweet: isa hot girl summer now pop yall shit\n",
            "confidence: 0.7891538739204407\n",
            "\n",
            "detokenized version of tweet: <s>my baby call me mommy sha for the first time today twice yall dont understand how hype that make me baby girl have autism and get her to talk without be prompt have be a challenge shes come so far</s>\n",
            "real tweet: my baby called me mommy sha for the first time today twice yall dont understand how hype that made me baby girl has autism and getting her to talk without being prompted has been a challenge shes come so far\n",
            "confidence: 0.7265664935112\n",
            "\n",
            "detokenized version of tweet: <s>how do we reach a point where blonks be have the audacity to talk about yoongis rap do yall see who you stan be yall ok your girl cant write cant deliver cant come close to btss lyricism tf be yall get brave for fashion deal</s>\n",
            "real tweet: how did we reach a point where blonks are having the audacity to talk about yoongis rap do yall see who you stan are yall ok your girls cant write cant deliver cant come close to btss lyricism tf are yall getting brave for fashion deals\n",
            "confidence: 0.8366938233375549\n",
            "\n",
            "detokenized version of tweet: <s>he try to expose this gold digger but it backfire 90 day fiance b via</s>\n",
            "real tweet: he tries to expose this gold digger but it backfires 90 day fiance b via\n",
            "confidence: 0.7239599227905273\n",
            "\n",
            "detokenized version of tweet: <s>well let me ask for the guy do you ever just grab your testicle because you can</s>\n",
            "real tweet: well let me ask for the guys do you ever just grab your testicles because you can\n",
            "confidence: 0.6647422909736633\n",
            "\n",
            "detokenized version of tweet: <s>yall be husband and wife and best friend you guy have so much fun it awesome you keep each other laughing and smile</s>\n",
            "real tweet: yall are husband and wife and best friends you guys have so much fun its awesome you keep each other laughing and smiling\n",
            "confidence: 0.5287085771560669\n",
            "\n",
            "detokenized version of tweet: <s>yup i hate when men rape and kill woman</s>\n",
            "real tweet: yup i hate when men rape and kill women\n",
            "confidence: 0.839443564414978\n",
            "\n",
            "detokenized version of tweet: <s>ladiesdont let anyone body shame you in any wayyou be fat so whatyou be beautiful my dearbe confident in yourselfpeace</s>\n",
            "real tweet: ladiesdont let anyone body shame you in any wayyou are fat so whatyou are beautiful my dearbe confident in yourselfpeace\n",
            "confidence: 0.8304651975631714\n",
            "\n",
            "detokenized version of tweet: <s>stop dont lie to these people lady dont let this man trick you out of the great organ of your life cause what</s>\n",
            "real tweet: stop dont lie to these people ladies dont let this man trick you out of the greatest organs of your life cause what\n",
            "confidence: 0.8315376043319702\n",
            "\n",
            "detokenized version of tweet: <s>lady dont have a miscarriage in louisiana if you do in addition to probably have your friend and family sue by some opportunistic yokel youll be charge with murder</s>\n",
            "real tweet: ladies dont have a miscarriage in louisiana if you do in addition to probably having your friends and family sued by some opportunistic yokel youll be charged with murder\n",
            "confidence: 0.802884042263031\n",
            "\n",
            "detokenized version of tweet: <s>stay on penis masturbate the penis forever</s>\n",
            "real tweet: stay on penis masturbate the penis forever\n",
            "confidence: 0.8117401599884033\n",
            "\n",
            "detokenized version of tweet: <s>ya knowits crazy roe v wade initially start because a lie about black men here we be 50 year later be still catch stray because of what white men do to yall the black misandry be real no matter what party dems or republican</s>\n",
            "real tweet: ya knowits crazy roe v wade initially started because a lie about black men here we are 50 years later were still catching strays because of what white men do to yall the black misandry is real no matter what party dems or republicans\n",
            "confidence: 0.6585976481437683\n",
            "\n",
            "detokenized version of tweet: <s>on the audio from when his finger be cut off even the people that be there say she do it she say shes totally against cocaine but do cocaine try to say the nurse be basically lie in her note about her do drug everyone be lie but her</s>\n",
            "real tweet: on the audio from when his finger was cut off even the people that were there said she did it she says shes totally against cocaine but does cocaine tries to say the nurse is basically lying in her notes about her doing drugs everyone is lying but her\n",
            "confidence: 0.7674369215965271\n",
            "\n",
            "detokenized version of tweet: <s>shoe that arent flat dress that arent nurse friendly handbags that dont hold a million little outfit i want impractical thing and an occasion to wear such thing</s>\n",
            "real tweet: shoes that arent flat dresses that arent nursing friendly handbags that dont hold a million little outfits i want impractical things and an occasion to wear such things\n",
            "confidence: 0.7318844199180603\n",
            "\n",
            "detokenized version of tweet: <s>a a diverse and pluralistic country americas law should not be base on a distorted and patriarchal interpretation of christianity furthermore the government should have no role whatsoever in a woman private healthcare decision</s>\n",
            "real tweet: as a diverse and pluralistic country americas laws should not be based on a distorted and patriarchal interpretation of christianity furthermore the government should have no role whatsoever in a womans private healthcare decisions\n",
            "confidence: 0.7592213749885559\n",
            "\n",
            "detokenized version of tweet: <s>it be interest to see other swede lie in english that the reason they didnt feed child be because it would take away from their family time etc no it survivalism a patriarchal this be the food we have for the winter for our mouth not others</s>\n",
            "real tweet: it was interesting to see other swedes lying in english that the reason they didnt feed children was because it would take away from their family time etc no its survivalism a patriarchal this is the food we have for the winter for our mouths not others\n",
            "confidence: 0.5885790586471558\n",
            "\n",
            "detokenized version of tweet: <s>notice something else thoalmost every single one be a man thats such a fucking problem that this be how some men believe they should let out their anger and hatred this society need to do good it do not even benefit the men patriarchymisogyny fail everyone</s>\n",
            "real tweet: notice something else thoalmost every single one is a man thats such a fucking problem that this is how some men believe they should let out their angers and hatred this society needs to do better it does not even benefit the men patriarchymisogyny fails everyone\n",
            "confidence: 0.8091843128204346\n",
            "\n",
            "detokenized version of tweet: <s>it in the teaxass code book of penis envy idiot that it gun over everything sad thing be it spreading and the more we try to stop it the faster it spread like the diseased idiot that support it</s>\n",
            "real tweet: its in the teaxass code book of penis envy idiots that its guns over everything sad thing is its spreading and the more we try to stop it the faster it spreads like the diseased idiots that support it\n",
            "confidence: 0.7036144137382507\n",
            "\n",
            "detokenized version of tweet: <s>part of the experience of be a black man be deal with the penis envy amp gossip mentality of other race of men we just be chill amp they be hat for no reason it definitely something that stay in the back of some of their mind but men in general get along very well</s>\n",
            "real tweet: part of the experience of being a black man is dealing with the penis envy amp gossip mentality of other races of men we just be chilling amp they be hating for no reason its definitely something that stays in the back of some of their minds but men in general get along very well\n",
            "confidence: 0.7694478631019592\n",
            "\n",
            "detokenized version of tweet: <s>stop it you aint stop no 315 pound freight train</s>\n",
            "real tweet: stop it you aint stopping no 315 pound freight train\n",
            "confidence: 0.6175730228424072\n",
            "\n",
            "detokenized version of tweet: <s>have a dream that i be at a party with my friend and bill gate show up and i say to my friend look at his pregnant as belly</s>\n",
            "real tweet: had a dream that i was at a party with my friend and bill gates showed up and i said to my friend look at his pregnant ass belly\n",
            "confidence: 0.5779778361320496\n",
            "\n",
            "detokenized version of tweet: <s>sharia law in the religion of islam allows abortion before the 5th montha for rape incest mentalphysical health or life of mother be at risk after the 5th month abortion allow only to save the life of the mother</s>\n",
            "real tweet: sharia law in the religion of islam allows abortion before the 5th montha for rape incest mentalphysical health or life of mother is at risk after the 5th month abortion allowed only to save the life of the mother\n",
            "confidence: 0.7768619060516357\n",
            "\n",
            "detokenized version of tweet: <s>putin saw how bad ukraine be treat in the u by maga saw how popular he be with maga in the u and really believe that many in ukraine would be like maga but then reality hit him when they decide they like freedom and life over be tread on with repression and force</s>\n",
            "real tweet: putin saw how bad ukraine was treated in the us by maga saw how popular he was with maga in the us and really believed that many in ukraine would be like maga but then reality hit him when they decided they liked freedom and life over being tread on with repression and force\n",
            "confidence: 0.633819043636322\n",
            "\n",
            "detokenized version of tweet: <s>exactly how i feel im gonna be alone for sure it almost sexistracistwhatever else ist just to ask this anymore</s>\n",
            "real tweet: exactly how i feel im gonna be alone for sure its almost sexistracistwhatever else ist just to ask this anymore\n",
            "confidence: 0.7540464401245117\n",
            "\n",
            "detokenized version of tweet: <s>call a man bald be sexual harassment via</s>\n",
            "real tweet: calling a man bald is sexual harassment via\n",
            "confidence: 0.8186569809913635\n",
            "\n",
            "detokenized version of tweet: <s>people be bear gayspoken by people who have never be around babieschildren for a consistent basis everwho be also ignorant to what they be even imply by say someone be bear with a sexuality</s>\n",
            "real tweet: people are born gayspoken by people who have never been around babieschildren for a consistent basis everwho are also ignorant to what they are even implying by saying someone is born with a sexuality\n",
            "confidence: 0.745171070098877\n",
            "\n",
            "detokenized version of tweet: <s>hot dawn hit the tower block and make it dance skank onetime pirouette a jitterbug winedown low stop for a moment hammertime flairy 678 we now hear more shortlisted fiction with opening</s>\n",
            "real tweet: hot dawn hit the tower block and made it dance skank onetime pirouette a jitterbug winedown low stop for a moment hammertime flairy 678 we now hear more shortlisted fiction with opening\n",
            "confidence: 0.6601040959358215\n",
            "\n",
            "detokenized version of tweet: <s>can bereal hurry the fuck up oh my god i swear to god you dumbass fuck app give me my 2 minute already you actual slag</s>\n",
            "real tweet: can bereal hurry the fuck up oh my god i swear to god you dumbass fucking app give me my 2 minutes already you actual slag\n",
            "confidence: 0.7593008279800415\n",
            "\n",
            "detokenized version of tweet: <s>wen im rich i hope the broke nigga in me survive cuz i aint ever pay 54 buck for a salad i hope the trench slap that shit outta my hand</s>\n",
            "real tweet: wen im rich i hope the broke nigga in me survives cuz i aint ever paying 54 bucks for a salad i hope the trenches slap that shit outta my hand\n",
            "confidence: 0.6857653260231018\n",
            "\n",
            "detokenized version of tweet: <s>so you stereotype someone base on their appearance be what make you some form of enlightened individual a oppose to a throwback racist cretin get it judge people by the race and appearance accord to this guy</s>\n",
            "real tweet: so you stereotyping someone based on their appearance is what makes you some form of enlightened individual as opposed to a throwback racist cretin got it judge people by the race and appearance according to this guy\n",
            "confidence: 0.6566386818885803\n",
            "\n",
            "detokenized version of tweet: <s>today woman eye makeup and those nail too</s>\n",
            "real tweet: todays women eye makeup and those nails too\n",
            "confidence: 0.6914982199668884\n",
            "\n",
            "detokenized version of tweet: <s>fellow patroits i be so patroitic to id even use the french fry grease accumulate in his taint to cook my food and scent my american flag thong underpantsim that patriotic bet you cant be more patroitic than that</s>\n",
            "real tweet: fellow patroits i am so patroitic to id even use the french fry grease accumulating in his taint to cook my food and scent my american flag thong underpantsim that patriotic bet you cant be more patroitic than that\n",
            "confidence: 0.5342535376548767\n",
            "\n",
            "detokenized version of tweet: <s>oh so now u cant understand womens word</s>\n",
            "real tweet: oh so now u cant understand womens words\n",
            "confidence: 0.7769908308982849\n",
            "\n",
            "detokenized version of tweet: <s>the question be do i wear the very short skirt that literally show my as with kneehighs or opt out for a short</s>\n",
            "real tweet: the question is do i wear the very short skirt that literally shows my ass with kneehighs or opt out for a short\n",
            "confidence: 0.8327964544296265\n",
            "\n",
            "detokenized version of tweet: <s>but your gift be waste on me shut the fuck uspsnwomskw thats when i just start bawl thats what simply do it for me he so vulnerable and open in little freak im a fucking mess</s>\n",
            "real tweet: but your gift is wasted on me shut the fuck uspsnwomskw thats when i just started bawling thats what simply did it for me hes so vulnerable and open in little freak im a fucking mess\n",
            "confidence: 0.5057098269462585\n",
            "\n",
            "detokenized version of tweet: <s>the bad part be that you also have to be careful about someone seem too sympathetic and understanding of your struggle because with the internet come fetishist and with real life come the one who be eager to take advantage of a vulnerable person it a sick world</s>\n",
            "real tweet: the worst part is that you also have to be careful about someone seeming too sympathetic and understanding of your struggle because with the internet comes fetishists and with real life comes the ones who are eager to take advantage of a vulnerable person its a sick world\n",
            "confidence: 0.6286221742630005\n",
            "\n",
            "detokenized version of tweet: <s>my new favorite meme be the pregnant woman drive in the oklahoma hov lane tell the state trooper who pull her over that she be drive with another person</s>\n",
            "real tweet: my new favorite meme is the pregnant woman driving in the oklahoma hov lane telling the state trooper who pulled her over that she is driving with another person\n",
            "confidence: 0.7962673306465149\n",
            "\n",
            "detokenized version of tweet: <s>isw publish the fake crap of any of the map they be just a front for the u state department they be fake news victoria nuland be the woman directly involve in the armed overthrow of the ukraine government in 2014</s>\n",
            "real tweet: isw published the fakest crap of any of the maps they are just a front for the us state department they are fake news victoria nuland is the woman directly involved in the armed overthrow of the ukraine government in 2014\n",
            "confidence: 0.7717053294181824\n",
            "\n",
            "detokenized version of tweet: <s>feminism v womanismhudsonweems identifies far difference between womanism and feminism be womanism be familyoriented and focus on race class and gender while feminism be femaleoriented and strictly focus on biological sex relate issue woman face</s>\n",
            "real tweet: feminism vs womanismhudsonweems identifies further differences between womanism and feminism being womanism is familyoriented and focuses on race class and gender while feminism is femaleoriented and strictly focuses on biological sex related issues women face\n",
            "confidence: 0.7822786569595337\n",
            "\n",
            "detokenized version of tweet: <s>yeah woman be get just a bad ive notice it anyway im sorry people be send you stuff like that it can be so gross</s>\n",
            "real tweet: yeah women are getting just as bad ive noticed it anyway im sorry people are sending you stuff like that it can be so gross\n",
            "confidence: 0.8064754009246826\n",
            "\n",
            "detokenized version of tweet: <s>yo i swear sagittarius men and woman be the funny</s>\n",
            "real tweet: yo i swear sagittarius men and women are the funniest\n",
            "confidence: 0.6698736548423767\n",
            "\n",
            "detokenized version of tweet: <s>a vasectomy be a simple surgery do in an office hospital or clinic 24 hour later recovery be pretty much completetubal ligation recovery take 13 week longer if it do follow a csection or childbirth many woman cant afford to take 13 week off work</s>\n",
            "real tweet: a vasectomy is a simple surgery done in an office hospital or clinic 24 hours later recovery is pretty much completetubal ligation recovery takes 13 weeks longer if its done following a csection or childbirth many women cant afford to take 13 weeks off work\n",
            "confidence: 0.749929666519165\n",
            "\n",
            "detokenized version of tweet: <s>woman shouldnt have to share their trauma story for you to feel empathy for the way theyre feel today stand with them we deserve a choice junta si podemos</s>\n",
            "real tweet: women shouldnt have to share their trauma stories for you to feel empathy for the way theyre feeling today stand with them we deserve a choice juntas si podemos\n",
            "confidence: 0.778222382068634\n",
            "\n",
            "detokenized version of tweet: <s>little woman atlanta star m juicy reveal health struggle after have astroke</s>\n",
            "real tweet: little women atlanta star ms juicy reveals health struggle after having astroke\n",
            "confidence: 0.7472513914108276\n",
            "\n",
            "detokenized version of tweet: <s>publication alert in wsq be lovecouple of year back my work with caught me up with caring in young feminist movement with threat of backlash burnout and violence speaking with 12</s>\n",
            "real tweet: publication alert in wsq is lovecouple of years back my work with caught me up with caring in young feminist movements with threats of backlash burnout and violence speaking with 12\n",
            "confidence: 0.7478775978088379\n",
            "\n",
            "detokenized version of tweet: <s>if you ask cenk a a hypothetical if that kind of thinking be use to justify atrocity he would yell of cooooourse with 0 self reflection</s>\n",
            "real tweet: if you ask cenk as a hypothetical if that kind of thinking was used to justify atrocities he would yell of cooooourse with 0 self reflection\n",
            "confidence: 0.5227986574172974\n",
            "\n",
            "detokenized version of tweet: <s>uh theyre allow to call this out make you look like a cunt fortunately ill block you so fast you wont get your screenshot</s>\n",
            "real tweet: uh theyre allowed to calling this out makes you look like a cunt fortunately ill block you so fast you wont get your screenshot\n",
            "confidence: 0.8452774882316589\n",
            "\n",
            "detokenized version of tweet: <s>i dont know what youre on about my point be that you shouldnt mock other people look because it very shallow and make you look like a cunt thanks for your input though</s>\n",
            "real tweet: i dont know what youre on about my point was that you shouldnt mock other peoples looks because its very shallow and makes you look like a cunt thanks for your input though\n",
            "confidence: 0.8163658380508423\n",
            "\n"
          ]
        }
      ]
    },
    {
      "cell_type": "markdown",
      "metadata": {
        "id": "P42XYjb6K3k5"
      },
      "source": [
        "# [Task 8 - 0.5 points] Report\n",
        "\n",
        "Wrap up your experiment in a short report (up to 2 pages)."
      ]
    },
    {
      "cell_type": "markdown",
      "metadata": {
        "id": "N9oXSaW1K5S7"
      },
      "source": [
        "### Instructions\n",
        "\n",
        "* Use the NLP course report template.\n",
        "* Summarize each task in the report following the provided template."
      ]
    },
    {
      "cell_type": "markdown",
      "metadata": {
        "id": "MHw2L6PlLDyE"
      },
      "source": [
        "### Recommendations\n",
        "\n",
        "The report is not a copy-paste of graphs, tables, and command outputs.\n",
        "\n",
        "* Summarize classification performance in Table format.\n",
        "* **Do not** report command outputs or screenshots.\n",
        "* Report learning curves in Figure format.\n",
        "* The error analysis section should summarize your findings.\n"
      ]
    },
    {
      "cell_type": "markdown",
      "metadata": {
        "id": "bMUqh1utLflM"
      },
      "source": [
        "# Submission\n",
        "\n",
        "* **Submit** your report in PDF format.\n",
        "* **Submit** your python notebook.\n",
        "* Make sure your notebook is **well organized**, with no temporary code, commented sections, tests, etc...\n",
        "* You can upload **model weights** in a cloud repository and report the link in the report."
      ]
    },
    {
      "cell_type": "markdown",
      "metadata": {
        "id": "ypagJed7LheY"
      },
      "source": [
        "# FAQ\n",
        "\n",
        "Please check this frequently asked questions before contacting us"
      ]
    },
    {
      "cell_type": "markdown",
      "metadata": {
        "id": "bgtFwKXMLjww"
      },
      "source": [
        "### Execution Order\n",
        "\n",
        "You are **free** to address tasks in any order (if multiple orderings are available)."
      ]
    },
    {
      "cell_type": "markdown",
      "metadata": {
        "id": "_BjMk5e_M4n7"
      },
      "source": [
        "### Trainable Embeddings\n",
        "\n",
        "You are **free** to define a trainable or non-trainable Embedding layer to load the GloVe embeddings."
      ]
    },
    {
      "cell_type": "markdown",
      "metadata": {
        "id": "e8TVgpYlM6s5"
      },
      "source": [
        "### Model architecture\n",
        "\n",
        "You **should not** change the architecture of a model (i.e., its layers).\n",
        "However, you are **free** to play with their hyper-parameters.\n"
      ]
    },
    {
      "cell_type": "markdown",
      "metadata": {
        "id": "Ia6IapI1M_A7"
      },
      "source": [
        "### Neural Libraries\n",
        "\n",
        "You are **free** to use any library of your choice to implement the networks (e.g., Keras, Tensorflow, PyTorch, JAX, etc...)"
      ]
    },
    {
      "cell_type": "markdown",
      "metadata": {
        "id": "bWDaW8DyNBu5"
      },
      "source": [
        "### Keras TimeDistributed Dense layer\n",
        "\n",
        "If you are using Keras, we recommend wrapping the final Dense layer with `TimeDistributed`."
      ]
    },
    {
      "cell_type": "markdown",
      "metadata": {
        "id": "R1WcrpemNEQm"
      },
      "source": [
        "### Robust Evaluation\n",
        "\n",
        "Each model is trained with at least 3 random seeds.\n",
        "\n",
        "Task 4 requires you to compute the average performance over the 3 seeds and its corresponding standard deviation."
      ]
    },
    {
      "cell_type": "markdown",
      "metadata": {
        "id": "_mVe5dqzNI_u"
      },
      "source": [
        "### Model Selection for Analysis\n",
        "\n",
        "To carry out the error analysis you are **free** to either\n",
        "\n",
        "* Pick examples or perform comparisons with an individual seed run model (e.g., Baseline seed 1337)\n",
        "* Perform ensembling via, for instance, majority voting to obtain a single model."
      ]
    },
    {
      "cell_type": "markdown",
      "metadata": {
        "id": "L8a4pDKSNKzI"
      },
      "source": [
        "### Error Analysis\n",
        "\n",
        "Some topics for discussion include:\n",
        "   * Precision/Recall curves.\n",
        "   * Confusion matrices.\n",
        "   * Specific misclassified samples."
      ]
    },
    {
      "cell_type": "markdown",
      "metadata": {
        "collapsed": false,
        "id": "ThjNAPkj_HhS"
      },
      "source": [
        "### Bonus Points\n",
        "Bonus points are arbitrarily assigned based on significant contributions such as:\n",
        "- Outstanding error analysis\n",
        "- Masterclass code organization\n",
        "- Suitable extensions\n",
        "Note that bonus points are only assigned if all task points are attributed (i.e., 6/6).\n",
        "\n",
        "**Possible Extensions/Explorations for Bonus Points:**\n",
        "- **Try other preprocessing strategies**: e.g., but not limited to, explore techniques tailored specifically for tweets or  methods that are common in social media text.\n",
        "- **Experiment with other custom architectures or models from HuggingFace**\n",
        "- **Explore Spanish tweets**: e.g., but not limited to, leverage multilingual models to process Spanish tweets and assess their performance compared to monolingual models.\n",
        "\n"
      ]
    },
    {
      "cell_type": "markdown",
      "metadata": {
        "id": "8xmMKE7vLu-y"
      },
      "source": [
        "\n",
        "\n",
        "\n",
        "\n",
        "# The End"
      ]
    }
  ],
  "metadata": {
    "colab": {
      "provenance": [],
      "gpuType": "T4"
    },
    "kernelspec": {
      "display_name": "Python 3",
      "name": "python3"
    },
    "language_info": {
      "name": "python"
    },
    "accelerator": "GPU",
    "widgets": {
      "application/vnd.jupyter.widget-state+json": {
        "efa43e3e2935456b9ca0443b77ac7dca": {
          "model_module": "@jupyter-widgets/controls",
          "model_name": "HBoxModel",
          "model_module_version": "1.5.0",
          "state": {
            "_dom_classes": [],
            "_model_module": "@jupyter-widgets/controls",
            "_model_module_version": "1.5.0",
            "_model_name": "HBoxModel",
            "_view_count": null,
            "_view_module": "@jupyter-widgets/controls",
            "_view_module_version": "1.5.0",
            "_view_name": "HBoxView",
            "box_style": "",
            "children": [
              "IPY_MODEL_446e7018c5dd443d9823fc080bbc94f3",
              "IPY_MODEL_daec4ba095774236b029729e8ad5cdfd",
              "IPY_MODEL_3f978bb2759b48058d3292faeb38bd77"
            ],
            "layout": "IPY_MODEL_9c7631e85b4747e385ac81a0043f689d"
          }
        },
        "446e7018c5dd443d9823fc080bbc94f3": {
          "model_module": "@jupyter-widgets/controls",
          "model_name": "HTMLModel",
          "model_module_version": "1.5.0",
          "state": {
            "_dom_classes": [],
            "_model_module": "@jupyter-widgets/controls",
            "_model_module_version": "1.5.0",
            "_model_name": "HTMLModel",
            "_view_count": null,
            "_view_module": "@jupyter-widgets/controls",
            "_view_module_version": "1.5.0",
            "_view_name": "HTMLView",
            "description": "",
            "description_tooltip": null,
            "layout": "IPY_MODEL_ee7339a07afa4e78ab4bba56bcdf4b1a",
            "placeholder": "​",
            "style": "IPY_MODEL_3bc02dda686a4042b96ec0a8952d705b",
            "value": "config.json: 100%"
          }
        },
        "daec4ba095774236b029729e8ad5cdfd": {
          "model_module": "@jupyter-widgets/controls",
          "model_name": "FloatProgressModel",
          "model_module_version": "1.5.0",
          "state": {
            "_dom_classes": [],
            "_model_module": "@jupyter-widgets/controls",
            "_model_module_version": "1.5.0",
            "_model_name": "FloatProgressModel",
            "_view_count": null,
            "_view_module": "@jupyter-widgets/controls",
            "_view_module_version": "1.5.0",
            "_view_name": "ProgressView",
            "bar_style": "success",
            "description": "",
            "description_tooltip": null,
            "layout": "IPY_MODEL_b3b3c13f5e7642338dfb4ddf0961ece8",
            "max": 700,
            "min": 0,
            "orientation": "horizontal",
            "style": "IPY_MODEL_3ca3fd3885134563b0c8db47b03b7770",
            "value": 700
          }
        },
        "3f978bb2759b48058d3292faeb38bd77": {
          "model_module": "@jupyter-widgets/controls",
          "model_name": "HTMLModel",
          "model_module_version": "1.5.0",
          "state": {
            "_dom_classes": [],
            "_model_module": "@jupyter-widgets/controls",
            "_model_module_version": "1.5.0",
            "_model_name": "HTMLModel",
            "_view_count": null,
            "_view_module": "@jupyter-widgets/controls",
            "_view_module_version": "1.5.0",
            "_view_name": "HTMLView",
            "description": "",
            "description_tooltip": null,
            "layout": "IPY_MODEL_7b055fafd2ac47dfb7c63422d27c57ea",
            "placeholder": "​",
            "style": "IPY_MODEL_4fecd13348d84a61aa9c4ea84b65f872",
            "value": " 700/700 [00:00&lt;00:00, 31.3kB/s]"
          }
        },
        "9c7631e85b4747e385ac81a0043f689d": {
          "model_module": "@jupyter-widgets/base",
          "model_name": "LayoutModel",
          "model_module_version": "1.2.0",
          "state": {
            "_model_module": "@jupyter-widgets/base",
            "_model_module_version": "1.2.0",
            "_model_name": "LayoutModel",
            "_view_count": null,
            "_view_module": "@jupyter-widgets/base",
            "_view_module_version": "1.2.0",
            "_view_name": "LayoutView",
            "align_content": null,
            "align_items": null,
            "align_self": null,
            "border": null,
            "bottom": null,
            "display": null,
            "flex": null,
            "flex_flow": null,
            "grid_area": null,
            "grid_auto_columns": null,
            "grid_auto_flow": null,
            "grid_auto_rows": null,
            "grid_column": null,
            "grid_gap": null,
            "grid_row": null,
            "grid_template_areas": null,
            "grid_template_columns": null,
            "grid_template_rows": null,
            "height": null,
            "justify_content": null,
            "justify_items": null,
            "left": null,
            "margin": null,
            "max_height": null,
            "max_width": null,
            "min_height": null,
            "min_width": null,
            "object_fit": null,
            "object_position": null,
            "order": null,
            "overflow": null,
            "overflow_x": null,
            "overflow_y": null,
            "padding": null,
            "right": null,
            "top": null,
            "visibility": null,
            "width": null
          }
        },
        "ee7339a07afa4e78ab4bba56bcdf4b1a": {
          "model_module": "@jupyter-widgets/base",
          "model_name": "LayoutModel",
          "model_module_version": "1.2.0",
          "state": {
            "_model_module": "@jupyter-widgets/base",
            "_model_module_version": "1.2.0",
            "_model_name": "LayoutModel",
            "_view_count": null,
            "_view_module": "@jupyter-widgets/base",
            "_view_module_version": "1.2.0",
            "_view_name": "LayoutView",
            "align_content": null,
            "align_items": null,
            "align_self": null,
            "border": null,
            "bottom": null,
            "display": null,
            "flex": null,
            "flex_flow": null,
            "grid_area": null,
            "grid_auto_columns": null,
            "grid_auto_flow": null,
            "grid_auto_rows": null,
            "grid_column": null,
            "grid_gap": null,
            "grid_row": null,
            "grid_template_areas": null,
            "grid_template_columns": null,
            "grid_template_rows": null,
            "height": null,
            "justify_content": null,
            "justify_items": null,
            "left": null,
            "margin": null,
            "max_height": null,
            "max_width": null,
            "min_height": null,
            "min_width": null,
            "object_fit": null,
            "object_position": null,
            "order": null,
            "overflow": null,
            "overflow_x": null,
            "overflow_y": null,
            "padding": null,
            "right": null,
            "top": null,
            "visibility": null,
            "width": null
          }
        },
        "3bc02dda686a4042b96ec0a8952d705b": {
          "model_module": "@jupyter-widgets/controls",
          "model_name": "DescriptionStyleModel",
          "model_module_version": "1.5.0",
          "state": {
            "_model_module": "@jupyter-widgets/controls",
            "_model_module_version": "1.5.0",
            "_model_name": "DescriptionStyleModel",
            "_view_count": null,
            "_view_module": "@jupyter-widgets/base",
            "_view_module_version": "1.2.0",
            "_view_name": "StyleView",
            "description_width": ""
          }
        },
        "b3b3c13f5e7642338dfb4ddf0961ece8": {
          "model_module": "@jupyter-widgets/base",
          "model_name": "LayoutModel",
          "model_module_version": "1.2.0",
          "state": {
            "_model_module": "@jupyter-widgets/base",
            "_model_module_version": "1.2.0",
            "_model_name": "LayoutModel",
            "_view_count": null,
            "_view_module": "@jupyter-widgets/base",
            "_view_module_version": "1.2.0",
            "_view_name": "LayoutView",
            "align_content": null,
            "align_items": null,
            "align_self": null,
            "border": null,
            "bottom": null,
            "display": null,
            "flex": null,
            "flex_flow": null,
            "grid_area": null,
            "grid_auto_columns": null,
            "grid_auto_flow": null,
            "grid_auto_rows": null,
            "grid_column": null,
            "grid_gap": null,
            "grid_row": null,
            "grid_template_areas": null,
            "grid_template_columns": null,
            "grid_template_rows": null,
            "height": null,
            "justify_content": null,
            "justify_items": null,
            "left": null,
            "margin": null,
            "max_height": null,
            "max_width": null,
            "min_height": null,
            "min_width": null,
            "object_fit": null,
            "object_position": null,
            "order": null,
            "overflow": null,
            "overflow_x": null,
            "overflow_y": null,
            "padding": null,
            "right": null,
            "top": null,
            "visibility": null,
            "width": null
          }
        },
        "3ca3fd3885134563b0c8db47b03b7770": {
          "model_module": "@jupyter-widgets/controls",
          "model_name": "ProgressStyleModel",
          "model_module_version": "1.5.0",
          "state": {
            "_model_module": "@jupyter-widgets/controls",
            "_model_module_version": "1.5.0",
            "_model_name": "ProgressStyleModel",
            "_view_count": null,
            "_view_module": "@jupyter-widgets/base",
            "_view_module_version": "1.2.0",
            "_view_name": "StyleView",
            "bar_color": null,
            "description_width": ""
          }
        },
        "7b055fafd2ac47dfb7c63422d27c57ea": {
          "model_module": "@jupyter-widgets/base",
          "model_name": "LayoutModel",
          "model_module_version": "1.2.0",
          "state": {
            "_model_module": "@jupyter-widgets/base",
            "_model_module_version": "1.2.0",
            "_model_name": "LayoutModel",
            "_view_count": null,
            "_view_module": "@jupyter-widgets/base",
            "_view_module_version": "1.2.0",
            "_view_name": "LayoutView",
            "align_content": null,
            "align_items": null,
            "align_self": null,
            "border": null,
            "bottom": null,
            "display": null,
            "flex": null,
            "flex_flow": null,
            "grid_area": null,
            "grid_auto_columns": null,
            "grid_auto_flow": null,
            "grid_auto_rows": null,
            "grid_column": null,
            "grid_gap": null,
            "grid_row": null,
            "grid_template_areas": null,
            "grid_template_columns": null,
            "grid_template_rows": null,
            "height": null,
            "justify_content": null,
            "justify_items": null,
            "left": null,
            "margin": null,
            "max_height": null,
            "max_width": null,
            "min_height": null,
            "min_width": null,
            "object_fit": null,
            "object_position": null,
            "order": null,
            "overflow": null,
            "overflow_x": null,
            "overflow_y": null,
            "padding": null,
            "right": null,
            "top": null,
            "visibility": null,
            "width": null
          }
        },
        "4fecd13348d84a61aa9c4ea84b65f872": {
          "model_module": "@jupyter-widgets/controls",
          "model_name": "DescriptionStyleModel",
          "model_module_version": "1.5.0",
          "state": {
            "_model_module": "@jupyter-widgets/controls",
            "_model_module_version": "1.5.0",
            "_model_name": "DescriptionStyleModel",
            "_view_count": null,
            "_view_module": "@jupyter-widgets/base",
            "_view_module_version": "1.2.0",
            "_view_name": "StyleView",
            "description_width": ""
          }
        },
        "6c62000c3e8c4c69a1fd1b6bec965d74": {
          "model_module": "@jupyter-widgets/controls",
          "model_name": "HBoxModel",
          "model_module_version": "1.5.0",
          "state": {
            "_dom_classes": [],
            "_model_module": "@jupyter-widgets/controls",
            "_model_module_version": "1.5.0",
            "_model_name": "HBoxModel",
            "_view_count": null,
            "_view_module": "@jupyter-widgets/controls",
            "_view_module_version": "1.5.0",
            "_view_name": "HBoxView",
            "box_style": "",
            "children": [
              "IPY_MODEL_461a62ea32564464b0f99eebaa3e2e08",
              "IPY_MODEL_8f27d6dbfef54db990f7a85696b93599",
              "IPY_MODEL_da3788acc8aa45a5afa458c28b7c78c4"
            ],
            "layout": "IPY_MODEL_12eedd50131c4f16abe53e6006add352"
          }
        },
        "461a62ea32564464b0f99eebaa3e2e08": {
          "model_module": "@jupyter-widgets/controls",
          "model_name": "HTMLModel",
          "model_module_version": "1.5.0",
          "state": {
            "_dom_classes": [],
            "_model_module": "@jupyter-widgets/controls",
            "_model_module_version": "1.5.0",
            "_model_name": "HTMLModel",
            "_view_count": null,
            "_view_module": "@jupyter-widgets/controls",
            "_view_module_version": "1.5.0",
            "_view_name": "HTMLView",
            "description": "",
            "description_tooltip": null,
            "layout": "IPY_MODEL_831b83fbdd1e45a1b8694c1f37e4e898",
            "placeholder": "​",
            "style": "IPY_MODEL_fac782a20a68496389ab661382cf1b8c",
            "value": "vocab.json: 100%"
          }
        },
        "8f27d6dbfef54db990f7a85696b93599": {
          "model_module": "@jupyter-widgets/controls",
          "model_name": "FloatProgressModel",
          "model_module_version": "1.5.0",
          "state": {
            "_dom_classes": [],
            "_model_module": "@jupyter-widgets/controls",
            "_model_module_version": "1.5.0",
            "_model_name": "FloatProgressModel",
            "_view_count": null,
            "_view_module": "@jupyter-widgets/controls",
            "_view_module_version": "1.5.0",
            "_view_name": "ProgressView",
            "bar_style": "success",
            "description": "",
            "description_tooltip": null,
            "layout": "IPY_MODEL_76e07490e84e43d0805aea4aa1dc3fab",
            "max": 898822,
            "min": 0,
            "orientation": "horizontal",
            "style": "IPY_MODEL_c2448ef33cdc496c8aa89ca629c53332",
            "value": 898822
          }
        },
        "da3788acc8aa45a5afa458c28b7c78c4": {
          "model_module": "@jupyter-widgets/controls",
          "model_name": "HTMLModel",
          "model_module_version": "1.5.0",
          "state": {
            "_dom_classes": [],
            "_model_module": "@jupyter-widgets/controls",
            "_model_module_version": "1.5.0",
            "_model_name": "HTMLModel",
            "_view_count": null,
            "_view_module": "@jupyter-widgets/controls",
            "_view_module_version": "1.5.0",
            "_view_name": "HTMLView",
            "description": "",
            "description_tooltip": null,
            "layout": "IPY_MODEL_adee1c656648459f89f9701fa4b681fd",
            "placeholder": "​",
            "style": "IPY_MODEL_78327c41a1114b698c2a05d059f6a685",
            "value": " 899k/899k [00:00&lt;00:00, 1.45MB/s]"
          }
        },
        "12eedd50131c4f16abe53e6006add352": {
          "model_module": "@jupyter-widgets/base",
          "model_name": "LayoutModel",
          "model_module_version": "1.2.0",
          "state": {
            "_model_module": "@jupyter-widgets/base",
            "_model_module_version": "1.2.0",
            "_model_name": "LayoutModel",
            "_view_count": null,
            "_view_module": "@jupyter-widgets/base",
            "_view_module_version": "1.2.0",
            "_view_name": "LayoutView",
            "align_content": null,
            "align_items": null,
            "align_self": null,
            "border": null,
            "bottom": null,
            "display": null,
            "flex": null,
            "flex_flow": null,
            "grid_area": null,
            "grid_auto_columns": null,
            "grid_auto_flow": null,
            "grid_auto_rows": null,
            "grid_column": null,
            "grid_gap": null,
            "grid_row": null,
            "grid_template_areas": null,
            "grid_template_columns": null,
            "grid_template_rows": null,
            "height": null,
            "justify_content": null,
            "justify_items": null,
            "left": null,
            "margin": null,
            "max_height": null,
            "max_width": null,
            "min_height": null,
            "min_width": null,
            "object_fit": null,
            "object_position": null,
            "order": null,
            "overflow": null,
            "overflow_x": null,
            "overflow_y": null,
            "padding": null,
            "right": null,
            "top": null,
            "visibility": null,
            "width": null
          }
        },
        "831b83fbdd1e45a1b8694c1f37e4e898": {
          "model_module": "@jupyter-widgets/base",
          "model_name": "LayoutModel",
          "model_module_version": "1.2.0",
          "state": {
            "_model_module": "@jupyter-widgets/base",
            "_model_module_version": "1.2.0",
            "_model_name": "LayoutModel",
            "_view_count": null,
            "_view_module": "@jupyter-widgets/base",
            "_view_module_version": "1.2.0",
            "_view_name": "LayoutView",
            "align_content": null,
            "align_items": null,
            "align_self": null,
            "border": null,
            "bottom": null,
            "display": null,
            "flex": null,
            "flex_flow": null,
            "grid_area": null,
            "grid_auto_columns": null,
            "grid_auto_flow": null,
            "grid_auto_rows": null,
            "grid_column": null,
            "grid_gap": null,
            "grid_row": null,
            "grid_template_areas": null,
            "grid_template_columns": null,
            "grid_template_rows": null,
            "height": null,
            "justify_content": null,
            "justify_items": null,
            "left": null,
            "margin": null,
            "max_height": null,
            "max_width": null,
            "min_height": null,
            "min_width": null,
            "object_fit": null,
            "object_position": null,
            "order": null,
            "overflow": null,
            "overflow_x": null,
            "overflow_y": null,
            "padding": null,
            "right": null,
            "top": null,
            "visibility": null,
            "width": null
          }
        },
        "fac782a20a68496389ab661382cf1b8c": {
          "model_module": "@jupyter-widgets/controls",
          "model_name": "DescriptionStyleModel",
          "model_module_version": "1.5.0",
          "state": {
            "_model_module": "@jupyter-widgets/controls",
            "_model_module_version": "1.5.0",
            "_model_name": "DescriptionStyleModel",
            "_view_count": null,
            "_view_module": "@jupyter-widgets/base",
            "_view_module_version": "1.2.0",
            "_view_name": "StyleView",
            "description_width": ""
          }
        },
        "76e07490e84e43d0805aea4aa1dc3fab": {
          "model_module": "@jupyter-widgets/base",
          "model_name": "LayoutModel",
          "model_module_version": "1.2.0",
          "state": {
            "_model_module": "@jupyter-widgets/base",
            "_model_module_version": "1.2.0",
            "_model_name": "LayoutModel",
            "_view_count": null,
            "_view_module": "@jupyter-widgets/base",
            "_view_module_version": "1.2.0",
            "_view_name": "LayoutView",
            "align_content": null,
            "align_items": null,
            "align_self": null,
            "border": null,
            "bottom": null,
            "display": null,
            "flex": null,
            "flex_flow": null,
            "grid_area": null,
            "grid_auto_columns": null,
            "grid_auto_flow": null,
            "grid_auto_rows": null,
            "grid_column": null,
            "grid_gap": null,
            "grid_row": null,
            "grid_template_areas": null,
            "grid_template_columns": null,
            "grid_template_rows": null,
            "height": null,
            "justify_content": null,
            "justify_items": null,
            "left": null,
            "margin": null,
            "max_height": null,
            "max_width": null,
            "min_height": null,
            "min_width": null,
            "object_fit": null,
            "object_position": null,
            "order": null,
            "overflow": null,
            "overflow_x": null,
            "overflow_y": null,
            "padding": null,
            "right": null,
            "top": null,
            "visibility": null,
            "width": null
          }
        },
        "c2448ef33cdc496c8aa89ca629c53332": {
          "model_module": "@jupyter-widgets/controls",
          "model_name": "ProgressStyleModel",
          "model_module_version": "1.5.0",
          "state": {
            "_model_module": "@jupyter-widgets/controls",
            "_model_module_version": "1.5.0",
            "_model_name": "ProgressStyleModel",
            "_view_count": null,
            "_view_module": "@jupyter-widgets/base",
            "_view_module_version": "1.2.0",
            "_view_name": "StyleView",
            "bar_color": null,
            "description_width": ""
          }
        },
        "adee1c656648459f89f9701fa4b681fd": {
          "model_module": "@jupyter-widgets/base",
          "model_name": "LayoutModel",
          "model_module_version": "1.2.0",
          "state": {
            "_model_module": "@jupyter-widgets/base",
            "_model_module_version": "1.2.0",
            "_model_name": "LayoutModel",
            "_view_count": null,
            "_view_module": "@jupyter-widgets/base",
            "_view_module_version": "1.2.0",
            "_view_name": "LayoutView",
            "align_content": null,
            "align_items": null,
            "align_self": null,
            "border": null,
            "bottom": null,
            "display": null,
            "flex": null,
            "flex_flow": null,
            "grid_area": null,
            "grid_auto_columns": null,
            "grid_auto_flow": null,
            "grid_auto_rows": null,
            "grid_column": null,
            "grid_gap": null,
            "grid_row": null,
            "grid_template_areas": null,
            "grid_template_columns": null,
            "grid_template_rows": null,
            "height": null,
            "justify_content": null,
            "justify_items": null,
            "left": null,
            "margin": null,
            "max_height": null,
            "max_width": null,
            "min_height": null,
            "min_width": null,
            "object_fit": null,
            "object_position": null,
            "order": null,
            "overflow": null,
            "overflow_x": null,
            "overflow_y": null,
            "padding": null,
            "right": null,
            "top": null,
            "visibility": null,
            "width": null
          }
        },
        "78327c41a1114b698c2a05d059f6a685": {
          "model_module": "@jupyter-widgets/controls",
          "model_name": "DescriptionStyleModel",
          "model_module_version": "1.5.0",
          "state": {
            "_model_module": "@jupyter-widgets/controls",
            "_model_module_version": "1.5.0",
            "_model_name": "DescriptionStyleModel",
            "_view_count": null,
            "_view_module": "@jupyter-widgets/base",
            "_view_module_version": "1.2.0",
            "_view_name": "StyleView",
            "description_width": ""
          }
        },
        "2ba396f6c8ae4de882cdc3fcb2d4772b": {
          "model_module": "@jupyter-widgets/controls",
          "model_name": "HBoxModel",
          "model_module_version": "1.5.0",
          "state": {
            "_dom_classes": [],
            "_model_module": "@jupyter-widgets/controls",
            "_model_module_version": "1.5.0",
            "_model_name": "HBoxModel",
            "_view_count": null,
            "_view_module": "@jupyter-widgets/controls",
            "_view_module_version": "1.5.0",
            "_view_name": "HBoxView",
            "box_style": "",
            "children": [
              "IPY_MODEL_a2251946532d4ac58d44821bb4504e5c",
              "IPY_MODEL_48f62395c7fa41ad8750befc78dea21e",
              "IPY_MODEL_138458b60a10442481562ef81b405a9b"
            ],
            "layout": "IPY_MODEL_2e39a4ab51cf4120b1424044326eeec6"
          }
        },
        "a2251946532d4ac58d44821bb4504e5c": {
          "model_module": "@jupyter-widgets/controls",
          "model_name": "HTMLModel",
          "model_module_version": "1.5.0",
          "state": {
            "_dom_classes": [],
            "_model_module": "@jupyter-widgets/controls",
            "_model_module_version": "1.5.0",
            "_model_name": "HTMLModel",
            "_view_count": null,
            "_view_module": "@jupyter-widgets/controls",
            "_view_module_version": "1.5.0",
            "_view_name": "HTMLView",
            "description": "",
            "description_tooltip": null,
            "layout": "IPY_MODEL_1be7571e1fed4d36ae38b23982206712",
            "placeholder": "​",
            "style": "IPY_MODEL_819a191ea115462191b3f9b44ca2cc56",
            "value": "merges.txt: 100%"
          }
        },
        "48f62395c7fa41ad8750befc78dea21e": {
          "model_module": "@jupyter-widgets/controls",
          "model_name": "FloatProgressModel",
          "model_module_version": "1.5.0",
          "state": {
            "_dom_classes": [],
            "_model_module": "@jupyter-widgets/controls",
            "_model_module_version": "1.5.0",
            "_model_name": "FloatProgressModel",
            "_view_count": null,
            "_view_module": "@jupyter-widgets/controls",
            "_view_module_version": "1.5.0",
            "_view_name": "ProgressView",
            "bar_style": "success",
            "description": "",
            "description_tooltip": null,
            "layout": "IPY_MODEL_370de8e9437f4151b211f359065b51d0",
            "max": 456318,
            "min": 0,
            "orientation": "horizontal",
            "style": "IPY_MODEL_246bda18379d4c27904acb7cf633ee1d",
            "value": 456318
          }
        },
        "138458b60a10442481562ef81b405a9b": {
          "model_module": "@jupyter-widgets/controls",
          "model_name": "HTMLModel",
          "model_module_version": "1.5.0",
          "state": {
            "_dom_classes": [],
            "_model_module": "@jupyter-widgets/controls",
            "_model_module_version": "1.5.0",
            "_model_name": "HTMLModel",
            "_view_count": null,
            "_view_module": "@jupyter-widgets/controls",
            "_view_module_version": "1.5.0",
            "_view_name": "HTMLView",
            "description": "",
            "description_tooltip": null,
            "layout": "IPY_MODEL_0d4f9cab47b24131a317a5da554366cc",
            "placeholder": "​",
            "style": "IPY_MODEL_3aac242a595a4f6492c3e326dff7b5f1",
            "value": " 456k/456k [00:00&lt;00:00, 1.07MB/s]"
          }
        },
        "2e39a4ab51cf4120b1424044326eeec6": {
          "model_module": "@jupyter-widgets/base",
          "model_name": "LayoutModel",
          "model_module_version": "1.2.0",
          "state": {
            "_model_module": "@jupyter-widgets/base",
            "_model_module_version": "1.2.0",
            "_model_name": "LayoutModel",
            "_view_count": null,
            "_view_module": "@jupyter-widgets/base",
            "_view_module_version": "1.2.0",
            "_view_name": "LayoutView",
            "align_content": null,
            "align_items": null,
            "align_self": null,
            "border": null,
            "bottom": null,
            "display": null,
            "flex": null,
            "flex_flow": null,
            "grid_area": null,
            "grid_auto_columns": null,
            "grid_auto_flow": null,
            "grid_auto_rows": null,
            "grid_column": null,
            "grid_gap": null,
            "grid_row": null,
            "grid_template_areas": null,
            "grid_template_columns": null,
            "grid_template_rows": null,
            "height": null,
            "justify_content": null,
            "justify_items": null,
            "left": null,
            "margin": null,
            "max_height": null,
            "max_width": null,
            "min_height": null,
            "min_width": null,
            "object_fit": null,
            "object_position": null,
            "order": null,
            "overflow": null,
            "overflow_x": null,
            "overflow_y": null,
            "padding": null,
            "right": null,
            "top": null,
            "visibility": null,
            "width": null
          }
        },
        "1be7571e1fed4d36ae38b23982206712": {
          "model_module": "@jupyter-widgets/base",
          "model_name": "LayoutModel",
          "model_module_version": "1.2.0",
          "state": {
            "_model_module": "@jupyter-widgets/base",
            "_model_module_version": "1.2.0",
            "_model_name": "LayoutModel",
            "_view_count": null,
            "_view_module": "@jupyter-widgets/base",
            "_view_module_version": "1.2.0",
            "_view_name": "LayoutView",
            "align_content": null,
            "align_items": null,
            "align_self": null,
            "border": null,
            "bottom": null,
            "display": null,
            "flex": null,
            "flex_flow": null,
            "grid_area": null,
            "grid_auto_columns": null,
            "grid_auto_flow": null,
            "grid_auto_rows": null,
            "grid_column": null,
            "grid_gap": null,
            "grid_row": null,
            "grid_template_areas": null,
            "grid_template_columns": null,
            "grid_template_rows": null,
            "height": null,
            "justify_content": null,
            "justify_items": null,
            "left": null,
            "margin": null,
            "max_height": null,
            "max_width": null,
            "min_height": null,
            "min_width": null,
            "object_fit": null,
            "object_position": null,
            "order": null,
            "overflow": null,
            "overflow_x": null,
            "overflow_y": null,
            "padding": null,
            "right": null,
            "top": null,
            "visibility": null,
            "width": null
          }
        },
        "819a191ea115462191b3f9b44ca2cc56": {
          "model_module": "@jupyter-widgets/controls",
          "model_name": "DescriptionStyleModel",
          "model_module_version": "1.5.0",
          "state": {
            "_model_module": "@jupyter-widgets/controls",
            "_model_module_version": "1.5.0",
            "_model_name": "DescriptionStyleModel",
            "_view_count": null,
            "_view_module": "@jupyter-widgets/base",
            "_view_module_version": "1.2.0",
            "_view_name": "StyleView",
            "description_width": ""
          }
        },
        "370de8e9437f4151b211f359065b51d0": {
          "model_module": "@jupyter-widgets/base",
          "model_name": "LayoutModel",
          "model_module_version": "1.2.0",
          "state": {
            "_model_module": "@jupyter-widgets/base",
            "_model_module_version": "1.2.0",
            "_model_name": "LayoutModel",
            "_view_count": null,
            "_view_module": "@jupyter-widgets/base",
            "_view_module_version": "1.2.0",
            "_view_name": "LayoutView",
            "align_content": null,
            "align_items": null,
            "align_self": null,
            "border": null,
            "bottom": null,
            "display": null,
            "flex": null,
            "flex_flow": null,
            "grid_area": null,
            "grid_auto_columns": null,
            "grid_auto_flow": null,
            "grid_auto_rows": null,
            "grid_column": null,
            "grid_gap": null,
            "grid_row": null,
            "grid_template_areas": null,
            "grid_template_columns": null,
            "grid_template_rows": null,
            "height": null,
            "justify_content": null,
            "justify_items": null,
            "left": null,
            "margin": null,
            "max_height": null,
            "max_width": null,
            "min_height": null,
            "min_width": null,
            "object_fit": null,
            "object_position": null,
            "order": null,
            "overflow": null,
            "overflow_x": null,
            "overflow_y": null,
            "padding": null,
            "right": null,
            "top": null,
            "visibility": null,
            "width": null
          }
        },
        "246bda18379d4c27904acb7cf633ee1d": {
          "model_module": "@jupyter-widgets/controls",
          "model_name": "ProgressStyleModel",
          "model_module_version": "1.5.0",
          "state": {
            "_model_module": "@jupyter-widgets/controls",
            "_model_module_version": "1.5.0",
            "_model_name": "ProgressStyleModel",
            "_view_count": null,
            "_view_module": "@jupyter-widgets/base",
            "_view_module_version": "1.2.0",
            "_view_name": "StyleView",
            "bar_color": null,
            "description_width": ""
          }
        },
        "0d4f9cab47b24131a317a5da554366cc": {
          "model_module": "@jupyter-widgets/base",
          "model_name": "LayoutModel",
          "model_module_version": "1.2.0",
          "state": {
            "_model_module": "@jupyter-widgets/base",
            "_model_module_version": "1.2.0",
            "_model_name": "LayoutModel",
            "_view_count": null,
            "_view_module": "@jupyter-widgets/base",
            "_view_module_version": "1.2.0",
            "_view_name": "LayoutView",
            "align_content": null,
            "align_items": null,
            "align_self": null,
            "border": null,
            "bottom": null,
            "display": null,
            "flex": null,
            "flex_flow": null,
            "grid_area": null,
            "grid_auto_columns": null,
            "grid_auto_flow": null,
            "grid_auto_rows": null,
            "grid_column": null,
            "grid_gap": null,
            "grid_row": null,
            "grid_template_areas": null,
            "grid_template_columns": null,
            "grid_template_rows": null,
            "height": null,
            "justify_content": null,
            "justify_items": null,
            "left": null,
            "margin": null,
            "max_height": null,
            "max_width": null,
            "min_height": null,
            "min_width": null,
            "object_fit": null,
            "object_position": null,
            "order": null,
            "overflow": null,
            "overflow_x": null,
            "overflow_y": null,
            "padding": null,
            "right": null,
            "top": null,
            "visibility": null,
            "width": null
          }
        },
        "3aac242a595a4f6492c3e326dff7b5f1": {
          "model_module": "@jupyter-widgets/controls",
          "model_name": "DescriptionStyleModel",
          "model_module_version": "1.5.0",
          "state": {
            "_model_module": "@jupyter-widgets/controls",
            "_model_module_version": "1.5.0",
            "_model_name": "DescriptionStyleModel",
            "_view_count": null,
            "_view_module": "@jupyter-widgets/base",
            "_view_module_version": "1.2.0",
            "_view_name": "StyleView",
            "description_width": ""
          }
        },
        "3da3fb12af7443569ed8242d60bdd09e": {
          "model_module": "@jupyter-widgets/controls",
          "model_name": "HBoxModel",
          "model_module_version": "1.5.0",
          "state": {
            "_dom_classes": [],
            "_model_module": "@jupyter-widgets/controls",
            "_model_module_version": "1.5.0",
            "_model_name": "HBoxModel",
            "_view_count": null,
            "_view_module": "@jupyter-widgets/controls",
            "_view_module_version": "1.5.0",
            "_view_name": "HBoxView",
            "box_style": "",
            "children": [
              "IPY_MODEL_c71fd2b898aa40e686333fd666af2e30",
              "IPY_MODEL_a67c24332afd43148a620db917c01447",
              "IPY_MODEL_e21282f4827147a6a06db08a26598681"
            ],
            "layout": "IPY_MODEL_e5e41a246ca04ff395b337ee10ee2572"
          }
        },
        "c71fd2b898aa40e686333fd666af2e30": {
          "model_module": "@jupyter-widgets/controls",
          "model_name": "HTMLModel",
          "model_module_version": "1.5.0",
          "state": {
            "_dom_classes": [],
            "_model_module": "@jupyter-widgets/controls",
            "_model_module_version": "1.5.0",
            "_model_name": "HTMLModel",
            "_view_count": null,
            "_view_module": "@jupyter-widgets/controls",
            "_view_module_version": "1.5.0",
            "_view_name": "HTMLView",
            "description": "",
            "description_tooltip": null,
            "layout": "IPY_MODEL_845be238a0ef486091afbb99eb933f1c",
            "placeholder": "​",
            "style": "IPY_MODEL_a0c002b83acb4af4bb0bfae3cbca7a82",
            "value": "special_tokens_map.json: 100%"
          }
        },
        "a67c24332afd43148a620db917c01447": {
          "model_module": "@jupyter-widgets/controls",
          "model_name": "FloatProgressModel",
          "model_module_version": "1.5.0",
          "state": {
            "_dom_classes": [],
            "_model_module": "@jupyter-widgets/controls",
            "_model_module_version": "1.5.0",
            "_model_name": "FloatProgressModel",
            "_view_count": null,
            "_view_module": "@jupyter-widgets/controls",
            "_view_module_version": "1.5.0",
            "_view_name": "ProgressView",
            "bar_style": "success",
            "description": "",
            "description_tooltip": null,
            "layout": "IPY_MODEL_8a589b572d064e4bb72051f88923c902",
            "max": 150,
            "min": 0,
            "orientation": "horizontal",
            "style": "IPY_MODEL_8f876a1f69194dfeb5a452de55357820",
            "value": 150
          }
        },
        "e21282f4827147a6a06db08a26598681": {
          "model_module": "@jupyter-widgets/controls",
          "model_name": "HTMLModel",
          "model_module_version": "1.5.0",
          "state": {
            "_dom_classes": [],
            "_model_module": "@jupyter-widgets/controls",
            "_model_module_version": "1.5.0",
            "_model_name": "HTMLModel",
            "_view_count": null,
            "_view_module": "@jupyter-widgets/controls",
            "_view_module_version": "1.5.0",
            "_view_name": "HTMLView",
            "description": "",
            "description_tooltip": null,
            "layout": "IPY_MODEL_e93bb80f30644a77a0b919d3441051b6",
            "placeholder": "​",
            "style": "IPY_MODEL_11e1081f5ac14396a66d1ceeb3348596",
            "value": " 150/150 [00:00&lt;00:00, 10.7kB/s]"
          }
        },
        "e5e41a246ca04ff395b337ee10ee2572": {
          "model_module": "@jupyter-widgets/base",
          "model_name": "LayoutModel",
          "model_module_version": "1.2.0",
          "state": {
            "_model_module": "@jupyter-widgets/base",
            "_model_module_version": "1.2.0",
            "_model_name": "LayoutModel",
            "_view_count": null,
            "_view_module": "@jupyter-widgets/base",
            "_view_module_version": "1.2.0",
            "_view_name": "LayoutView",
            "align_content": null,
            "align_items": null,
            "align_self": null,
            "border": null,
            "bottom": null,
            "display": null,
            "flex": null,
            "flex_flow": null,
            "grid_area": null,
            "grid_auto_columns": null,
            "grid_auto_flow": null,
            "grid_auto_rows": null,
            "grid_column": null,
            "grid_gap": null,
            "grid_row": null,
            "grid_template_areas": null,
            "grid_template_columns": null,
            "grid_template_rows": null,
            "height": null,
            "justify_content": null,
            "justify_items": null,
            "left": null,
            "margin": null,
            "max_height": null,
            "max_width": null,
            "min_height": null,
            "min_width": null,
            "object_fit": null,
            "object_position": null,
            "order": null,
            "overflow": null,
            "overflow_x": null,
            "overflow_y": null,
            "padding": null,
            "right": null,
            "top": null,
            "visibility": null,
            "width": null
          }
        },
        "845be238a0ef486091afbb99eb933f1c": {
          "model_module": "@jupyter-widgets/base",
          "model_name": "LayoutModel",
          "model_module_version": "1.2.0",
          "state": {
            "_model_module": "@jupyter-widgets/base",
            "_model_module_version": "1.2.0",
            "_model_name": "LayoutModel",
            "_view_count": null,
            "_view_module": "@jupyter-widgets/base",
            "_view_module_version": "1.2.0",
            "_view_name": "LayoutView",
            "align_content": null,
            "align_items": null,
            "align_self": null,
            "border": null,
            "bottom": null,
            "display": null,
            "flex": null,
            "flex_flow": null,
            "grid_area": null,
            "grid_auto_columns": null,
            "grid_auto_flow": null,
            "grid_auto_rows": null,
            "grid_column": null,
            "grid_gap": null,
            "grid_row": null,
            "grid_template_areas": null,
            "grid_template_columns": null,
            "grid_template_rows": null,
            "height": null,
            "justify_content": null,
            "justify_items": null,
            "left": null,
            "margin": null,
            "max_height": null,
            "max_width": null,
            "min_height": null,
            "min_width": null,
            "object_fit": null,
            "object_position": null,
            "order": null,
            "overflow": null,
            "overflow_x": null,
            "overflow_y": null,
            "padding": null,
            "right": null,
            "top": null,
            "visibility": null,
            "width": null
          }
        },
        "a0c002b83acb4af4bb0bfae3cbca7a82": {
          "model_module": "@jupyter-widgets/controls",
          "model_name": "DescriptionStyleModel",
          "model_module_version": "1.5.0",
          "state": {
            "_model_module": "@jupyter-widgets/controls",
            "_model_module_version": "1.5.0",
            "_model_name": "DescriptionStyleModel",
            "_view_count": null,
            "_view_module": "@jupyter-widgets/base",
            "_view_module_version": "1.2.0",
            "_view_name": "StyleView",
            "description_width": ""
          }
        },
        "8a589b572d064e4bb72051f88923c902": {
          "model_module": "@jupyter-widgets/base",
          "model_name": "LayoutModel",
          "model_module_version": "1.2.0",
          "state": {
            "_model_module": "@jupyter-widgets/base",
            "_model_module_version": "1.2.0",
            "_model_name": "LayoutModel",
            "_view_count": null,
            "_view_module": "@jupyter-widgets/base",
            "_view_module_version": "1.2.0",
            "_view_name": "LayoutView",
            "align_content": null,
            "align_items": null,
            "align_self": null,
            "border": null,
            "bottom": null,
            "display": null,
            "flex": null,
            "flex_flow": null,
            "grid_area": null,
            "grid_auto_columns": null,
            "grid_auto_flow": null,
            "grid_auto_rows": null,
            "grid_column": null,
            "grid_gap": null,
            "grid_row": null,
            "grid_template_areas": null,
            "grid_template_columns": null,
            "grid_template_rows": null,
            "height": null,
            "justify_content": null,
            "justify_items": null,
            "left": null,
            "margin": null,
            "max_height": null,
            "max_width": null,
            "min_height": null,
            "min_width": null,
            "object_fit": null,
            "object_position": null,
            "order": null,
            "overflow": null,
            "overflow_x": null,
            "overflow_y": null,
            "padding": null,
            "right": null,
            "top": null,
            "visibility": null,
            "width": null
          }
        },
        "8f876a1f69194dfeb5a452de55357820": {
          "model_module": "@jupyter-widgets/controls",
          "model_name": "ProgressStyleModel",
          "model_module_version": "1.5.0",
          "state": {
            "_model_module": "@jupyter-widgets/controls",
            "_model_module_version": "1.5.0",
            "_model_name": "ProgressStyleModel",
            "_view_count": null,
            "_view_module": "@jupyter-widgets/base",
            "_view_module_version": "1.2.0",
            "_view_name": "StyleView",
            "bar_color": null,
            "description_width": ""
          }
        },
        "e93bb80f30644a77a0b919d3441051b6": {
          "model_module": "@jupyter-widgets/base",
          "model_name": "LayoutModel",
          "model_module_version": "1.2.0",
          "state": {
            "_model_module": "@jupyter-widgets/base",
            "_model_module_version": "1.2.0",
            "_model_name": "LayoutModel",
            "_view_count": null,
            "_view_module": "@jupyter-widgets/base",
            "_view_module_version": "1.2.0",
            "_view_name": "LayoutView",
            "align_content": null,
            "align_items": null,
            "align_self": null,
            "border": null,
            "bottom": null,
            "display": null,
            "flex": null,
            "flex_flow": null,
            "grid_area": null,
            "grid_auto_columns": null,
            "grid_auto_flow": null,
            "grid_auto_rows": null,
            "grid_column": null,
            "grid_gap": null,
            "grid_row": null,
            "grid_template_areas": null,
            "grid_template_columns": null,
            "grid_template_rows": null,
            "height": null,
            "justify_content": null,
            "justify_items": null,
            "left": null,
            "margin": null,
            "max_height": null,
            "max_width": null,
            "min_height": null,
            "min_width": null,
            "object_fit": null,
            "object_position": null,
            "order": null,
            "overflow": null,
            "overflow_x": null,
            "overflow_y": null,
            "padding": null,
            "right": null,
            "top": null,
            "visibility": null,
            "width": null
          }
        },
        "11e1081f5ac14396a66d1ceeb3348596": {
          "model_module": "@jupyter-widgets/controls",
          "model_name": "DescriptionStyleModel",
          "model_module_version": "1.5.0",
          "state": {
            "_model_module": "@jupyter-widgets/controls",
            "_model_module_version": "1.5.0",
            "_model_name": "DescriptionStyleModel",
            "_view_count": null,
            "_view_module": "@jupyter-widgets/base",
            "_view_module_version": "1.2.0",
            "_view_name": "StyleView",
            "description_width": ""
          }
        },
        "a559a8a53dd64231adef2c9817461cb7": {
          "model_module": "@jupyter-widgets/controls",
          "model_name": "HBoxModel",
          "model_module_version": "1.5.0",
          "state": {
            "_dom_classes": [],
            "_model_module": "@jupyter-widgets/controls",
            "_model_module_version": "1.5.0",
            "_model_name": "HBoxModel",
            "_view_count": null,
            "_view_module": "@jupyter-widgets/controls",
            "_view_module_version": "1.5.0",
            "_view_name": "HBoxView",
            "box_style": "",
            "children": [
              "IPY_MODEL_af8dbe43e4784e5c81e7b2681306ba51",
              "IPY_MODEL_c548e2a7e34049a69c7b21c03c7dff55",
              "IPY_MODEL_23aea4ea66934032adf74a8c5fd6dc91"
            ],
            "layout": "IPY_MODEL_55adb205c2f1479ba91449ae2fa47109"
          }
        },
        "af8dbe43e4784e5c81e7b2681306ba51": {
          "model_module": "@jupyter-widgets/controls",
          "model_name": "HTMLModel",
          "model_module_version": "1.5.0",
          "state": {
            "_dom_classes": [],
            "_model_module": "@jupyter-widgets/controls",
            "_model_module_version": "1.5.0",
            "_model_name": "HTMLModel",
            "_view_count": null,
            "_view_module": "@jupyter-widgets/controls",
            "_view_module_version": "1.5.0",
            "_view_name": "HTMLView",
            "description": "",
            "description_tooltip": null,
            "layout": "IPY_MODEL_7e9c88917a9e4b7eabe295f30ce5868b",
            "placeholder": "​",
            "style": "IPY_MODEL_7a4e648916814a2c95e226fe664deec3",
            "value": "pytorch_model.bin: 100%"
          }
        },
        "c548e2a7e34049a69c7b21c03c7dff55": {
          "model_module": "@jupyter-widgets/controls",
          "model_name": "FloatProgressModel",
          "model_module_version": "1.5.0",
          "state": {
            "_dom_classes": [],
            "_model_module": "@jupyter-widgets/controls",
            "_model_module_version": "1.5.0",
            "_model_name": "FloatProgressModel",
            "_view_count": null,
            "_view_module": "@jupyter-widgets/controls",
            "_view_module_version": "1.5.0",
            "_view_name": "ProgressView",
            "bar_style": "success",
            "description": "",
            "description_tooltip": null,
            "layout": "IPY_MODEL_86cb33a66f3d48f19cb0e3d6fe8a7478",
            "max": 498676425,
            "min": 0,
            "orientation": "horizontal",
            "style": "IPY_MODEL_6c7bb968e9624615bba9eb702522799f",
            "value": 498676425
          }
        },
        "23aea4ea66934032adf74a8c5fd6dc91": {
          "model_module": "@jupyter-widgets/controls",
          "model_name": "HTMLModel",
          "model_module_version": "1.5.0",
          "state": {
            "_dom_classes": [],
            "_model_module": "@jupyter-widgets/controls",
            "_model_module_version": "1.5.0",
            "_model_name": "HTMLModel",
            "_view_count": null,
            "_view_module": "@jupyter-widgets/controls",
            "_view_module_version": "1.5.0",
            "_view_name": "HTMLView",
            "description": "",
            "description_tooltip": null,
            "layout": "IPY_MODEL_0b95b859ba9d4aca85a8d8e21148c779",
            "placeholder": "​",
            "style": "IPY_MODEL_22c07f02e2b84a3bb84e4d4d2fdb3317",
            "value": " 499M/499M [00:04&lt;00:00, 111MB/s]"
          }
        },
        "55adb205c2f1479ba91449ae2fa47109": {
          "model_module": "@jupyter-widgets/base",
          "model_name": "LayoutModel",
          "model_module_version": "1.2.0",
          "state": {
            "_model_module": "@jupyter-widgets/base",
            "_model_module_version": "1.2.0",
            "_model_name": "LayoutModel",
            "_view_count": null,
            "_view_module": "@jupyter-widgets/base",
            "_view_module_version": "1.2.0",
            "_view_name": "LayoutView",
            "align_content": null,
            "align_items": null,
            "align_self": null,
            "border": null,
            "bottom": null,
            "display": null,
            "flex": null,
            "flex_flow": null,
            "grid_area": null,
            "grid_auto_columns": null,
            "grid_auto_flow": null,
            "grid_auto_rows": null,
            "grid_column": null,
            "grid_gap": null,
            "grid_row": null,
            "grid_template_areas": null,
            "grid_template_columns": null,
            "grid_template_rows": null,
            "height": null,
            "justify_content": null,
            "justify_items": null,
            "left": null,
            "margin": null,
            "max_height": null,
            "max_width": null,
            "min_height": null,
            "min_width": null,
            "object_fit": null,
            "object_position": null,
            "order": null,
            "overflow": null,
            "overflow_x": null,
            "overflow_y": null,
            "padding": null,
            "right": null,
            "top": null,
            "visibility": null,
            "width": null
          }
        },
        "7e9c88917a9e4b7eabe295f30ce5868b": {
          "model_module": "@jupyter-widgets/base",
          "model_name": "LayoutModel",
          "model_module_version": "1.2.0",
          "state": {
            "_model_module": "@jupyter-widgets/base",
            "_model_module_version": "1.2.0",
            "_model_name": "LayoutModel",
            "_view_count": null,
            "_view_module": "@jupyter-widgets/base",
            "_view_module_version": "1.2.0",
            "_view_name": "LayoutView",
            "align_content": null,
            "align_items": null,
            "align_self": null,
            "border": null,
            "bottom": null,
            "display": null,
            "flex": null,
            "flex_flow": null,
            "grid_area": null,
            "grid_auto_columns": null,
            "grid_auto_flow": null,
            "grid_auto_rows": null,
            "grid_column": null,
            "grid_gap": null,
            "grid_row": null,
            "grid_template_areas": null,
            "grid_template_columns": null,
            "grid_template_rows": null,
            "height": null,
            "justify_content": null,
            "justify_items": null,
            "left": null,
            "margin": null,
            "max_height": null,
            "max_width": null,
            "min_height": null,
            "min_width": null,
            "object_fit": null,
            "object_position": null,
            "order": null,
            "overflow": null,
            "overflow_x": null,
            "overflow_y": null,
            "padding": null,
            "right": null,
            "top": null,
            "visibility": null,
            "width": null
          }
        },
        "7a4e648916814a2c95e226fe664deec3": {
          "model_module": "@jupyter-widgets/controls",
          "model_name": "DescriptionStyleModel",
          "model_module_version": "1.5.0",
          "state": {
            "_model_module": "@jupyter-widgets/controls",
            "_model_module_version": "1.5.0",
            "_model_name": "DescriptionStyleModel",
            "_view_count": null,
            "_view_module": "@jupyter-widgets/base",
            "_view_module_version": "1.2.0",
            "_view_name": "StyleView",
            "description_width": ""
          }
        },
        "86cb33a66f3d48f19cb0e3d6fe8a7478": {
          "model_module": "@jupyter-widgets/base",
          "model_name": "LayoutModel",
          "model_module_version": "1.2.0",
          "state": {
            "_model_module": "@jupyter-widgets/base",
            "_model_module_version": "1.2.0",
            "_model_name": "LayoutModel",
            "_view_count": null,
            "_view_module": "@jupyter-widgets/base",
            "_view_module_version": "1.2.0",
            "_view_name": "LayoutView",
            "align_content": null,
            "align_items": null,
            "align_self": null,
            "border": null,
            "bottom": null,
            "display": null,
            "flex": null,
            "flex_flow": null,
            "grid_area": null,
            "grid_auto_columns": null,
            "grid_auto_flow": null,
            "grid_auto_rows": null,
            "grid_column": null,
            "grid_gap": null,
            "grid_row": null,
            "grid_template_areas": null,
            "grid_template_columns": null,
            "grid_template_rows": null,
            "height": null,
            "justify_content": null,
            "justify_items": null,
            "left": null,
            "margin": null,
            "max_height": null,
            "max_width": null,
            "min_height": null,
            "min_width": null,
            "object_fit": null,
            "object_position": null,
            "order": null,
            "overflow": null,
            "overflow_x": null,
            "overflow_y": null,
            "padding": null,
            "right": null,
            "top": null,
            "visibility": null,
            "width": null
          }
        },
        "6c7bb968e9624615bba9eb702522799f": {
          "model_module": "@jupyter-widgets/controls",
          "model_name": "ProgressStyleModel",
          "model_module_version": "1.5.0",
          "state": {
            "_model_module": "@jupyter-widgets/controls",
            "_model_module_version": "1.5.0",
            "_model_name": "ProgressStyleModel",
            "_view_count": null,
            "_view_module": "@jupyter-widgets/base",
            "_view_module_version": "1.2.0",
            "_view_name": "StyleView",
            "bar_color": null,
            "description_width": ""
          }
        },
        "0b95b859ba9d4aca85a8d8e21148c779": {
          "model_module": "@jupyter-widgets/base",
          "model_name": "LayoutModel",
          "model_module_version": "1.2.0",
          "state": {
            "_model_module": "@jupyter-widgets/base",
            "_model_module_version": "1.2.0",
            "_model_name": "LayoutModel",
            "_view_count": null,
            "_view_module": "@jupyter-widgets/base",
            "_view_module_version": "1.2.0",
            "_view_name": "LayoutView",
            "align_content": null,
            "align_items": null,
            "align_self": null,
            "border": null,
            "bottom": null,
            "display": null,
            "flex": null,
            "flex_flow": null,
            "grid_area": null,
            "grid_auto_columns": null,
            "grid_auto_flow": null,
            "grid_auto_rows": null,
            "grid_column": null,
            "grid_gap": null,
            "grid_row": null,
            "grid_template_areas": null,
            "grid_template_columns": null,
            "grid_template_rows": null,
            "height": null,
            "justify_content": null,
            "justify_items": null,
            "left": null,
            "margin": null,
            "max_height": null,
            "max_width": null,
            "min_height": null,
            "min_width": null,
            "object_fit": null,
            "object_position": null,
            "order": null,
            "overflow": null,
            "overflow_x": null,
            "overflow_y": null,
            "padding": null,
            "right": null,
            "top": null,
            "visibility": null,
            "width": null
          }
        },
        "22c07f02e2b84a3bb84e4d4d2fdb3317": {
          "model_module": "@jupyter-widgets/controls",
          "model_name": "DescriptionStyleModel",
          "model_module_version": "1.5.0",
          "state": {
            "_model_module": "@jupyter-widgets/controls",
            "_model_module_version": "1.5.0",
            "_model_name": "DescriptionStyleModel",
            "_view_count": null,
            "_view_module": "@jupyter-widgets/base",
            "_view_module_version": "1.2.0",
            "_view_name": "StyleView",
            "description_width": ""
          }
        }
      }
    }
  },
  "nbformat": 4,
  "nbformat_minor": 0
}